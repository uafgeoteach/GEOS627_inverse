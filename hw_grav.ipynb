{
 "cells": [
  {
   "cell_type": "markdown",
   "metadata": {
    "collapsed": false,
    "jupyter": {
     "outputs_hidden": false
    }
   },
   "source": [
    "### Inverse Problems and Parameter Estimation, GEOS 627/427, University of Alaska Fairbanks\n",
    "\n",
    "- scripts hw_grav.ipynb\n",
    "- estimation of density variations using singular value decomposition"
   ]
  },
  {
   "cell_type": "code",
   "execution_count": null,
   "metadata": {
    "collapsed": false,
    "jupyter": {
     "outputs_hidden": false
    }
   },
   "outputs": [],
   "source": [
    "%matplotlib inline"
   ]
  },
  {
   "cell_type": "code",
   "execution_count": null,
   "metadata": {},
   "outputs": [],
   "source": [
    "%run lib_header.py"
   ]
  },
  {
   "cell_type": "code",
   "execution_count": null,
   "metadata": {
    "collapsed": false,
    "jupyter": {
     "outputs_hidden": false
    }
   },
   "outputs": [],
   "source": [
    "import scipy.io\n",
    "\n",
    "from lib_geos import fftvec\n",
    "from lib_inverse import *   # plot_matrix, svdall, tsvd, dispGik\n",
    "from lib_peip import *      # collocate, plotconst_mod"
   ]
  },
  {
   "cell_type": "code",
   "execution_count": null,
   "metadata": {},
   "outputs": [],
   "source": [
    "igrav = 1\n",
    "\n",
    "if igrav==1:\n",
    "    # construct discretization vector for model (density)\n",
    "    nparm = 14\n",
    "    ximin = 0\n",
    "    ximax = 1\n",
    "    xivec = collocate(ximin,ximax,nparm)\n",
    "    dxi = xivec[1]-xivec[0]\n",
    "    \n",
    "    # construct discretization vector for data (gravity)\n",
    "    ndata = nparm + 1\n",
    "    xmin = 0\n",
    "    xmax = 1\n",
    "    xvec = collocate(xmin,xmax,ndata)\n",
    "\n",
    "    # design matrix G (CODE HERE)\n",
    "    \n",
    "    \n",
    "    \n",
    "\n",
    "    # data \n",
    "    dobs = np.array([[\n",
    "       3.200806372256319,\n",
    "       4.281623543773417,\n",
    "       5.000263689234144,\n",
    "       6.083743151550228,\n",
    "       6.755930945340174,\n",
    "       6.643468068035755,\n",
    "       6.585278806244575,\n",
    "       5.953388158640383,\n",
    "       5.123776695089963,\n",
    "       4.247191182133855,\n",
    "       3.175260569937137,\n",
    "       2.511125551747691,\n",
    "       2.004733630167365,\n",
    "       1.333121959786504,\n",
    "       0.949130251286033 ]]).T;\n",
    "    \n",
    "else:\n",
    "    dat = scipy.io.loadmat('data/ifk.mat')\n",
    "    dobs = dat['d']\n",
    "    ndata = len(dobs)\n",
    "\n",
    "    # construct discretization vector for data\n",
    "    xmin = 0\n",
    "    xmax = 1\n",
    "    xvec = collocate(xmin,xmax,ndata)\n",
    "    \n",
    "    # construct discretization vector for model\n",
    "    ximin = xmin\n",
    "    ximax = xmax\n",
    "    xivec = xvec    # identical discretization for model and for data\n",
    "    dxi = xivec[1]-xivec[0]\n",
    "    nparm = len(xivec)\n",
    "    \n",
    "    # design matrix G (CODE HERE)\n",
    "\n",
    "    \n",
    "\n",
    "\n",
    "# indices stored as an array (parray) and a vector (pvec)\n",
    "p      = np.min([ndata,nparm])\n",
    "parray = np.arange(1,p+1)         # array with dimension (nparm,)\n",
    "pvec   = np.reshape(parray,(p,1)) # vector with dimension (nparm,1)\n",
    "print(parray)"
   ]
  }
 ],
 "metadata": {
  "interpreter": {
   "hash": "7f341b321178e62fbbfacfb91167ed733f9907f6f0692efdceb8394e8303ba73"
  },
  "kernelspec": {
   "display_name": "inverse [conda env:inverse]",
   "language": "python",
   "name": "conda-env-inverse-py"
  },
  "language_info": {
   "codemirror_mode": {
    "name": "ipython",
    "version": 3
   },
   "file_extension": ".py",
   "mimetype": "text/x-python",
   "name": "python",
   "nbconvert_exporter": "python",
   "pygments_lexer": "ipython3",
   "version": "3.10.6"
  }
 },
 "nbformat": 4,
 "nbformat_minor": 4
}
