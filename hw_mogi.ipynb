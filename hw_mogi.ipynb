{
 "cells": [
  {
   "cell_type": "markdown",
   "id": "3855308c51f9f83a",
   "metadata": {
    "collapsed": false,
    "jupyter": {
     "outputs_hidden": false
    }
   },
   "source": [
    "### Inverse Problems and Parameter Estimation, GEOS 627/427\n",
    "### Microwave Remote Sensing, GEOS 657\n",
    "### University of Alaska Fairbanks\n",
    "\n",
    "- script hwsol_mogi.ipynb\n",
    "- modeling subsurface volcanic sources using InSAR data"
   ]
  },
  {
   "cell_type": "code",
   "execution_count": null,
   "id": "e7224b34ac3fc27b",
   "metadata": {
    "collapsed": false,
    "jupyter": {
     "outputs_hidden": false
    }
   },
   "outputs": [],
   "source": [
    "%matplotlib inline"
   ]
  },
  {
   "cell_type": "code",
   "execution_count": null,
   "id": "5cdb9e92-e1e1-44b7-bb79-dc873f355e0d",
   "metadata": {},
   "outputs": [],
   "source": [
    "%run lib_header.py"
   ]
  },
  {
   "cell_type": "code",
   "execution_count": null,
   "id": "0235c842",
   "metadata": {
    "collapsed": false,
    "jupyter": {
     "outputs_hidden": false
    }
   },
   "outputs": [],
   "source": [
    "import copy\n",
    "import os\n",
    "from os.path import exists\n",
    "\n",
    "from lib_mogi import *  # plot_model, rngchg_mogi"
   ]
  },
  {
   "cell_type": "code",
   "execution_count": null,
   "id": "812f4d20",
   "metadata": {},
   "outputs": [],
   "source": [
    "# Define variables - InSAR\n",
    "nsample = 1100\n",
    "nline = 980\n",
    "posting = 40.0\n",
    "half_wave = 28.3"
   ]
  },
  {
   "cell_type": "code",
   "execution_count": null,
   "id": "3205b5ea",
   "metadata": {},
   "outputs": [],
   "source": [
    "# Download and read in data - InSAR\n",
    "\n",
    "#displacement_map_path = 's3://asf-jupyter-data/E451_20000818_20020719.unw'\n",
    "#displacement_map = os.path.basename(displacement_map_path)\n",
    "#if not exists('data/E451_20000818_20020719.unw'):\n",
    "#    !aws --region=us-east-1 --no-sign-request s3 cp $displacement_map_path $displacement_map\n",
    "#with open(displacement_map_path, 'rb') as f:    \n",
    "#    coh = np.fromfile(f, dtype='>f', count=-1)\n",
    "\n",
    "displacement_map_path = 'data/E451_20000818_20020719.unw'\n",
    "\n",
    "with open(displacement_map_path, 'rb') as f:    \n",
    "    coh = np.fromfile(f, dtype='>f', count=-1)\n",
    "    \n",
    "observed_displacement_map = np.reshape(coh, (nline, nsample))\n",
    "\n",
    "# Scale the measured and unwrapped InSAR phase into surface displacement in cm units and replace all nans with 0\n",
    "observed_displacement_map = observed_displacement_map*half_wave/2.0/np.pi\n",
    "where_are_NaNs = np.isnan(observed_displacement_map)\n",
    "isokay = np.isreal(observed_displacement_map)\n",
    "observed_displacement_map[where_are_NaNs] = 0\n",
    "\n",
    "# Create a mask that removes invalid samples (low coherence) from the displacement map\n",
    "observed_displacement_map_m = np.ma.masked_where(observed_displacement_map==0, observed_displacement_map)\n",
    "\n",
    "print('data files is %i x %i' % (observed_displacement_map_m.shape))\n",
    "print('nline = %i' % nline)\n",
    "print('nsample = %i' % nsample)"
   ]
  },
  {
   "cell_type": "code",
   "execution_count": null,
   "id": "ffc9c0a0",
   "metadata": {},
   "outputs": [],
   "source": [
    "# without mask\n",
    "plot_model(observed_displacement_map, nline, nsample, posting, dpi=200)\n",
    "# with mask\n",
    "plot_model(observed_displacement_map_m, nline, nsample, posting, dpi=200)"
   ]
  },
  {
   "cell_type": "code",
   "execution_count": null,
   "id": "52dc674c",
   "metadata": {},
   "outputs": [],
   "source": [
    "# function to create simulated displacement data based on Mogi source model parameters\n",
    "# note: this function calls rngchg_mogi() to calculate the displacement field projected onto LOS\n",
    "# note: this function requires variables nsample, nline, posting\n",
    "def mogi2insar(x, y, z, volume):    \n",
    "    # Setting acquisition parameters\n",
    "    track = -13.3*np.pi / 180.0\n",
    "    look  =  23.0*np.pi / 180.0\n",
    "    plook = np.array([-np.sin(look)*np.cos(track), np.sin(look)*np.sin(track), np.cos(look)]).reshape(3,1)\n",
    "    \n",
    "    # Defining easting and northing vectors\n",
    "    northing     = np.arange(0, (nline)*posting, posting) / 1000\n",
    "    easting      = np.arange(0, (nsample)*posting, posting) / 1000\n",
    "    northing_mat = np.tile(northing, (nsample, 1))\n",
    "    easting_mat  = np.transpose(np.tile(easting, (nline, 1)))\n",
    "    northing_vec = np.reshape(northing_mat, (nline*nsample, 1))\n",
    "    easting_vec  = np.reshape(easting_mat, (nline*nsample, 1))\n",
    "    \n",
    "    # Handing coordinates and model parameters over to the rngchg_mogi function\n",
    "    calc_range = rngchg_mogi(y, x, z, volume, northing_vec, easting_vec, plook)\n",
    "    \n",
    "    # Reshaping surface displacement data derived via calc_forward_model_mogi()\n",
    "    surface_displacement = np.reshape(calc_range, (nsample,nline))\n",
    "    \n",
    "    # return rotated surface displacement\n",
    "    return np.transpose(np.fliplr(surface_displacement))"
   ]
  },
  {
   "cell_type": "code",
   "execution_count": null,
   "id": "78baedf9",
   "metadata": {},
   "outputs": [],
   "source": [
    "# try out a forward model using mogi2insar()\n",
    "\n",
    "\n"
   ]
  },
  {
   "cell_type": "code",
   "execution_count": null,
   "id": "775a3362",
   "metadata": {},
   "outputs": [],
   "source": [
    "# FIX Z AND dV, SEARCH OVER X AND Y\n",
    "\n",
    "\n",
    "\n"
   ]
  },
  {
   "cell_type": "code",
   "execution_count": null,
   "id": "16763536",
   "metadata": {},
   "outputs": [],
   "source": [
    "# Find the minimum\n",
    "#inds = np.nonzero(misfit_xy == np.amin(misfit_xy))\n",
    "#indx = inds[0][0]\n",
    "#indy = inds[1][0]\n",
    "\n",
    "#print('Source xs : %.2f km' % (xs[indx]))\n",
    "#print('Source ys : %.2f km' % (ys[indy]))\n",
    "#print('misfit : %.2e' % (misfit_xy[indx,indy]))"
   ]
  }
 ],
 "metadata": {
  "kernelspec": {
   "display_name": "inverse [conda env:inverse]",
   "language": "python",
   "name": "conda-env-inverse-py"
  },
  "language_info": {
   "codemirror_mode": {
    "name": "ipython",
    "version": 3
   },
   "file_extension": ".py",
   "mimetype": "text/x-python",
   "name": "python",
   "nbconvert_exporter": "python",
   "pygments_lexer": "ipython3",
   "version": "3.10.6"
  }
 },
 "nbformat": 4,
 "nbformat_minor": 5
}
