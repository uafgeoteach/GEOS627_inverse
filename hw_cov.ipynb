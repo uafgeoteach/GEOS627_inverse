{
 "cells": [
  {
   "cell_type": "markdown",
   "source": [
    "# Inverse Problems and Parameter Estimation, GEOS 627/427, University of Alaska Fairbanks\n",
    "\n",
    "- script hw_cov.ipynb"
   ],
   "metadata": {
    "collapsed": false
   },
   "id": "a9aca8dd406ac4ce"
  },
  {
   "cell_type": "code",
   "execution_count": null,
   "outputs": [],
   "source": [
    "%matplotlib inline"
   ],
   "metadata": {
    "collapsed": false
   },
   "id": "cafecd4a024ea21f"
  },
  {
   "cell_type": "code",
   "execution_count": null,
   "outputs": [],
   "source": [
    "import warnings\n",
    "\n",
    "import matplotlib.pyplot as plt\n",
    "import numpy as np\n",
    "import scipy.io\n",
    "import scipy.special\n",
    "\n",
    "from lib_geos import covC\n",
    "from lib_geos import plot_histo\n",
    "from lib_geos import randomvec"
   ],
   "metadata": {
    "collapsed": false
   },
   "id": "63d92adb"
  },
  {
   "cell_type": "code",
   "execution_count": null,
   "outputs": [],
   "source": [
    "# script settings\n",
    "\n",
    "warnings.filterwarnings('ignore')"
   ],
   "metadata": {
    "collapsed": false
   },
   "id": "52b4af6a202e22c8"
  },
  {
   "cell_type": "code",
   "execution_count": null,
   "id": "42b44ed6",
   "metadata": {},
   "outputs": [],
   "source": [
    "# load data\n",
    "# m_samples : m x p\n",
    "#         x : p x 1\n",
    "# m is the number of model parameters describing a single sample (of a covariance matrix)\n",
    "# p is the number of samples\n",
    "# nparm = m\n",
    "# nsample = p\n",
    "dat = scipy.io.loadmat('data/covhwdata.mat')\n",
    "x = dat['x']\n",
    "m_samples = dat['m_samples']\n",
    "nparm,nsample = m_samples.shape\n",
    "xmin = np.min(x)\n",
    "xmax = np.max(x)\n",
    "ymin = np.min(m_samples)\n",
    "ymax = np.max(m_samples)\n",
    "xran = xmax-xmin\n",
    "ax0 = [xmin-0.02*xran,xmax+0.02*xran,ymin,ymax]\n",
    "\n",
    "print('nparm (m) = %i ' % nparm)\n",
    "print('nsample (p) = %i ' % nsample)\n",
    "print('m_samples is %i x %i ' % (nparm,nsample))\n",
    "print('each sample is %i x 1' % nparm)\n",
    "print('ax0:',ax0)"
   ]
  },
  {
   "cell_type": "code",
   "execution_count": null,
   "id": "66719e54",
   "metadata": {},
   "outputs": [],
   "source": [
    "# compute grid of distances among all points\n",
    "# (D is needed for calculating the covariance matrix)\n",
    "D = np.empty((nparm,nparm))\n",
    "for ii in range(nparm):      # index k\n",
    "    for jj in range(nparm):  # index k'\n",
    "        D[ii,jj] = np.abs(x[0,ii] - x[0,jj])\n",
    "        \n",
    "# Shorter way to do this:\n",
    "#[X1,X2] = np.meshgrid(x,x)\n",
    "#D = np.abs(X1-X2)"
   ]
  },
  {
   "cell_type": "code",
   "execution_count": null,
   "id": "2e690404",
   "metadata": {},
   "outputs": [],
   "source": [
    "# random pair of points\n",
    "k = np.random.randint(nparm,size=1)\n",
    "kp = np.random.randint(nparm,size=1)\n",
    "stlab = 'd(x(%i), x(%i)) = d(%.1f, %.1f) = %.1f' % (k,kp,x[0,k],x[0,kp],D[k,kp])\n",
    "\n",
    "# represent the distance between the two points\n",
    "plt.figure(figsize=(7,8))\n",
    "plt.plot(x,x*0,'k.')\n",
    "plt.plot(x[0,[k, kp]],[0, 0],'ro')\n",
    "plt.xlabel('x')\n",
    "plt.title(stlab)\n",
    "plt.grid(visible=True)\n",
    "plt.axis('tight')\n",
    "plt.show()\n",
    "\n",
    "# example of plotting a matrix with imshow\n",
    "plt.figure(figsize=(9,7))\n",
    "#plt.pcolor(D)\n",
    "#plt.axis([-1, nparm+1, -1, nparm+1])\n",
    "plt.imshow(D)\n",
    "plt.plot(kp,k,'wo',ms='10',mfc='red')\n",
    "plt.plot(k,kp,'wo',ms='10',mfc='black')\n",
    "plt.xlabel(\"k' index\")\n",
    "plt.ylabel('k index')\n",
    "plt.colorbar()\n",
    "plt.title('Distances between pairs of points (dmax = %.1f)' % (np.max(D)))\n",
    "plt.show()"
   ]
  },
  {
   "cell_type": "code",
   "execution_count": null,
   "id": "9cae27cd",
   "metadata": {},
   "outputs": [],
   "source": [
    "# Start PROBLEM 3 here\n",
    "\n"
   ]
  },
  {
   "cell_type": "code",
   "execution_count": null,
   "id": "bb291509",
   "metadata": {},
   "outputs": [],
   "source": [
    "# Start PROBLEM 4 here\n",
    "# CODE FOR COMPUTING NORMS OF YOUR ESTIMATED SAMPLES\n",
    "# THIS ASSUMES YOU HAVE VARIABLES NAMED mc_samples and Pnew\n",
    "\n",
    "Pnew = 0\n",
    "mc_samples = []\n",
    "\n",
    "# compute mean, std, and norm for EACH SAMPLE\n",
    "mean_samples = np.zeros((Pnew,1))\n",
    "std_samples  = np.zeros((Pnew,1))\n",
    "norm_samples = np.zeros((Pnew,1))\n",
    "\n",
    "for ii in range(Pnew):\n",
    "    mc = mc_samples[:,ii]  # sample of covariance matrix\n",
    "    #mean_samples[ii]  = \n",
    "    #std_samples[ii]   = \n",
    "    #norm_samples[ii]  =    # note: Numpy's 'norm' function will not work here!"
   ]
  }
 ],
 "metadata": {
  "kernelspec": {
   "name": "python3",
   "language": "python",
   "display_name": "Python 3 (ipykernel)"
  },
  "language_info": {
   "codemirror_mode": {
    "name": "ipython",
    "version": 3
   },
   "file_extension": ".py",
   "mimetype": "text/x-python",
   "name": "python",
   "nbconvert_exporter": "python",
   "pygments_lexer": "ipython3",
   "version": "3.8.12"
  }
 },
 "nbformat": 4,
 "nbformat_minor": 5
}
