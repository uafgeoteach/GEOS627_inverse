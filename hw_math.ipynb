{
 "cells": [
  {
   "cell_type": "markdown",
   "metadata": {
    "collapsed": false,
    "jupyter": {
     "outputs_hidden": false
    }
   },
   "source": [
    "### Applied Seismology, GEOS 626/426, University of Alaska Fairbanks\n",
    "### Inverse Problems and Parameter Estimation, GEOS 627/427, University of Alaska Fairbanks\n",
    "\n",
    "- script hwsol_math.ipynb\n",
    "- see also notes_math.ipynb"
   ]
  },
  {
   "cell_type": "code",
   "execution_count": 1,
   "metadata": {},
   "outputs": [],
   "source": [
    "%matplotlib inline"
   ]
  },
  {
   "cell_type": "code",
   "execution_count": 2,
   "metadata": {},
   "outputs": [],
   "source": [
    "%run lib_header.py"
   ]
  },
  {
   "cell_type": "code",
   "execution_count": 3,
   "metadata": {
    "collapsed": false,
    "jupyter": {
     "outputs_hidden": false
    }
   },
   "outputs": [],
   "source": [
    "import math\n",
    "from scipy.linalg import null_space\n",
    "import numpy.linalg as la"
   ]
  },
  {
   "cell_type": "code",
   "execution_count": 15,
   "metadata": {},
   "outputs": [
    {
     "data": {
      "text/latex": [
       "$\\displaystyle \\left[\\begin{matrix}1.1274049349714 & 0.316898107088265 & -1.61048857368387\\\\-0.916262926276706 & -1.42058008112844 & -1.92774221278448\\\\1.18654538782069 & -0.189904128385264 & -0.55374909199895\\end{matrix}\\right]$"
      ],
      "text/plain": [
       "Matrix([\n",
       "[   1.1274049349714,  0.316898107088265, -1.61048857368387],\n",
       "[-0.916262926276706,  -1.42058008112844, -1.92774221278448],\n",
       "[  1.18654538782069, -0.189904128385264, -0.55374909199895]])"
      ]
     },
     "metadata": {},
     "output_type": "display_data"
    },
    {
     "data": {
      "text/latex": [
       "$\\displaystyle \\left[\\begin{matrix}1.13 & 0.32 & -1.61\\\\-0.92 & -1.42 & -1.93\\\\1.19 & -0.19 & -0.55\\end{matrix}\\right]$"
      ],
      "text/plain": [
       "Matrix([\n",
       "[ 1.13,  0.32, -1.61],\n",
       "[-0.92, -1.42, -1.93],\n",
       "[ 1.19, -0.19, -0.55]])"
      ]
     },
     "metadata": {},
     "output_type": "display_data"
    }
   ],
   "source": [
    "# displaying matrices\n",
    "A = 5*(np.random.rand(3,3) - 0.5)\n",
    "showmat(A)\n",
    "showmat(A,2)"
   ]
  },
  {
   "cell_type": "code",
   "execution_count": 16,
   "metadata": {},
   "outputs": [
    {
     "data": {
      "text/latex": [
       "$\\displaystyle \\left[\\begin{matrix}1 & 2 & 3\\\\0 & 1 & 0\\\\1 & 0 & 4\\\\0 & 0 & 1\\end{matrix}\\right]$"
      ],
      "text/plain": [
       "Matrix([\n",
       "[1, 2, 3],\n",
       "[0, 1, 0],\n",
       "[1, 0, 4],\n",
       "[0, 0, 1]])"
      ]
     },
     "metadata": {},
     "output_type": "display_data"
    }
   ],
   "source": [
    "# building a matrix from a set of column vectors\n",
    "v0 = np.array([[1, 0, 1, 0]]).T\n",
    "v1 = np.array([[2, 1, 0, 0]]).T\n",
    "v2 = np.array([[3, 0, 4, 1]]).T\n",
    "A = np.hstack((v0,v1,v2))\n",
    "showmat(A)"
   ]
  },
  {
   "cell_type": "code",
   "execution_count": null,
   "metadata": {},
   "outputs": [],
   "source": []
  }
 ],
 "metadata": {
  "kernelspec": {
   "display_name": "inverse [conda env:inverse]",
   "language": "python",
   "name": "conda-env-inverse-py"
  },
  "language_info": {
   "codemirror_mode": {
    "name": "ipython",
    "version": 3
   },
   "file_extension": ".py",
   "mimetype": "text/x-python",
   "name": "python",
   "nbconvert_exporter": "python",
   "pygments_lexer": "ipython3",
   "version": "3.10.6"
  }
 },
 "nbformat": 4,
 "nbformat_minor": 4
}
