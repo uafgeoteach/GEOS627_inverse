{
 "cells": [
  {
   "cell_type": "markdown",
   "source": [
    "# Inverse Problems and Parameter Estimation, GEOS 627/427, University of Alaska Fairbanks\n",
    "\n",
    "- script lab_svdgeometry.ipynb\n",
    "- geometry of the singular value decomposition"
   ],
   "metadata": {
    "collapsed": false
   }
  },
  {
   "cell_type": "code",
   "execution_count": null,
   "outputs": [],
   "source": [
    "%matplotlib inline"
   ],
   "metadata": {
    "collapsed": false
   }
  },
  {
   "cell_type": "code",
   "execution_count": null,
   "outputs": [],
   "source": [
    "import warnings\n",
    "\n",
    "import matplotlib.pyplot as plt\n",
    "import numpy as np\n",
    "from numpy.linalg import inv\n",
    "from sympy.matrices import Matrix\n",
    "\n",
    "from lib_inverse import svdall\n",
    "from lib_inverse import svdmat\n",
    "from lib_inverse import rot2d\n",
    "from lib_inverse import cart2pol\n",
    "from lib_inverse import pol2cart "
   ],
   "metadata": {
    "collapsed": false
   }
  },
  {
   "cell_type": "code",
   "execution_count": null,
   "outputs": [],
   "source": [
    "# script settings\n",
    "\n",
    "warnings.filterwarnings('ignore')"
   ],
   "metadata": {
    "collapsed": false
   }
  },
  {
   "cell_type": "code",
   "execution_count": null,
   "metadata": {},
   "outputs": [],
   "source": [
    "# plot text label at a radius larger than |v|\n",
    "def plot_text(v,vlab,f,fsize):\n",
    "    r,th = cart2pol(v[0],v[1])\n",
    "    x,y  = pol2cart(r+f,th)\n",
    "    plt.text(x,y,vlab,fontsize=fsize,ha='center',va='center')"
   ]
  },
  {
   "cell_type": "code",
   "execution_count": null,
   "metadata": {},
   "outputs": [],
   "source": [
    "# RE-EXECUTE THIS CELL OVER AND OVER TO SEE DIFFERENT EXAMPLE PLOTS BELOW\n",
    "\n",
    "# matrix with randomly generated integer entries between -2 and 2\n",
    "intmax = 2\n",
    "G = np.random.randint(-intmax,high=intmax+1,size=(2,2))\n",
    "\n",
    "# singular value decomposition\n",
    "[U,S,V] = svdmat(G)\n",
    "Gcheck = U@S@V.T\n",
    "\n",
    "# singular values\n",
    "s1 = S[0,0]\n",
    "s2 = S[1,1]\n",
    "\n",
    "# basis vectors\n",
    "v1 = V[:,0]\n",
    "v2 = V[:,1]\n",
    "u1 = U[:,0]\n",
    "u2 = U[:,1]\n",
    "\n",
    "# unit circle for plotting\n",
    "R = 1\n",
    "n = 100\n",
    "t = np.linspace(0,2*np.pi,n)\n",
    "x = R*np.cos(t)\n",
    "y = R*np.sin(t)\n",
    "Cx = np.array([x, y])\n",
    "\n",
    "# unit circles representing basis U and basis V\n",
    "Ux = Cx\n",
    "Vx = Cx\n",
    "\n",
    "# standard basis\n",
    "e1 = np.array([1,0])\n",
    "e2 = np.array([0,1])\n",
    "\n",
    "ax0 = 3*np.array([-1,1,-1,1])\n",
    "plt.figure(figsize=(10,9.75))\n",
    "nr = 2\n",
    "nc = 2\n",
    "\n",
    "plt.subplot(nr,nc,1)\n",
    "plt.grid()\n",
    "#plt.axis('equal')\n",
    "plt.axis(ax0)\n",
    "plt.plot(Vx[0,:],Vx[1,:],'b-')\n",
    "plt.plot([0,v1[0]],[0,v1[1]],'b',lw=2)\n",
    "plt.plot([0,v2[0]],[0,v2[1]],'b',lw=2)\n",
    "\n",
    "GVx = G@Vx   # ellipse for plotting\n",
    "su1 = s1*u1\n",
    "su2 = s2*u2\n",
    "Ge1 = G@e1\n",
    "Ge2 = G@e2\n",
    "\n",
    "plt.subplot(nr,nc,2)\n",
    "plt.grid()\n",
    "#plt.axis('equal')\n",
    "plt.axis(ax0)\n",
    "plt.plot(GVx[0,:],GVx[1,:],'r-')\n",
    "plt.plot(Ux[0,:],Ux[1,:],'r--')\n",
    "plt.plot([0,su1[0]],[0,su1[1]],'r',lw=2)\n",
    "plt.plot([0,su2[0]],[0,su2[1]],'r',lw=2)\n",
    "\n",
    "f = 0.4  # amount to add to |v| for plotting radius of text\n",
    "fsize = 16\n",
    "plt.subplot(nr,nc,1)\n",
    "plot_text(v1,r'$v_1$',f,fsize)\n",
    "plot_text(v2,r'$v_2$',f,fsize)\n",
    "\n",
    "plt.subplot(nr,nc,2)\n",
    "plot_text(su1,r'$s_1 u_1$',f,fsize)\n",
    "plot_text(su2,r'$s_2 u_2$',f,fsize)\n",
    "\n",
    "print(Gcheck)\n",
    "Matrix(G)"
   ]
  },
  {
   "cell_type": "code",
   "execution_count": null,
   "metadata": {
    "scrolled": true
   },
   "outputs": [],
   "source": [
    "# START CODE HERE FOR U --> GDAGGER --> V\n",
    "\n",
    "Up,Sp,Vp,U0,V0,Rm,Rd,Gdagger,p = svdall(G)"
   ]
  }
 ],
 "metadata": {
  "interpreter": {
   "hash": "7f341b321178e62fbbfacfb91167ed733f9907f6f0692efdceb8394e8303ba73"
  },
  "kernelspec": {
   "name": "python3",
   "language": "python",
   "display_name": "Python 3 (ipykernel)"
  },
  "language_info": {
   "codemirror_mode": {
    "name": "ipython",
    "version": 3
   },
   "file_extension": ".py",
   "mimetype": "text/x-python",
   "name": "python",
   "nbconvert_exporter": "python",
   "pygments_lexer": "ipython3",
   "version": "3.8.12"
  }
 },
 "nbformat": 4,
 "nbformat_minor": 2
}
