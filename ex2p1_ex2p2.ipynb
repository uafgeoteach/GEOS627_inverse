{
 "cells": [
  {
   "cell_type": "markdown",
   "metadata": {
    "collapsed": false,
    "jupyter": {
     "outputs_hidden": false
    }
   },
   "source": [
    "### Inverse Problems and Parameter Estimation, GEOS 627/427, University of Alaska Fairbanks\n",
    "\n",
    "- script ex2p1_ex2p2.ipynb"
   ]
  },
  {
   "cell_type": "code",
   "execution_count": null,
   "metadata": {
    "collapsed": false,
    "jupyter": {
     "outputs_hidden": false
    }
   },
   "outputs": [],
   "source": [
    "%matplotlib inline"
   ]
  },
  {
   "cell_type": "code",
   "execution_count": null,
   "metadata": {},
   "outputs": [],
   "source": [
    "%run lib_header.py"
   ]
  },
  {
   "cell_type": "code",
   "execution_count": null,
   "metadata": {
    "collapsed": false,
    "jupyter": {
     "outputs_hidden": false
    }
   },
   "outputs": [],
   "source": [
    "import scipy.io\n",
    "import scipy.special\n",
    "from numpy.linalg import inv\n",
    "\n",
    "from lib_inverse import plot_ellipse\n",
    "from lib_peip import chi2cdf\n",
    "from lib_peip import chi2inv"
   ]
  },
  {
   "cell_type": "code",
   "execution_count": null,
   "metadata": {
    "scrolled": true
   },
   "outputs": [],
   "source": [
    "# load data\n",
    "dat   = scipy.io.loadmat('data/data1.mat')\n",
    "data1 = dat['data1']\n",
    "print(f\"data1: {data1.shape}\")\n",
    "ndata = len(data1)\n",
    "t     = data1[:,0].reshape(ndata,1)\n",
    "y     = data1[:,1].reshape(ndata,1)\n",
    "sigma = data1[:,2].reshape(ndata,1)\n",
    "ones  = np.ones((ndata,1))\n",
    "ndata = len(t)\n",
    "\n",
    "print('displaying t, y, sigma:')\n",
    "showmat(np.hstack((t,y,sigma)),2)"
   ]
  },
  {
   "cell_type": "code",
   "execution_count": null,
   "metadata": {},
   "outputs": [],
   "source": [
    "# Build the parabolic system matrix\n",
    "G = np.hstack(((ones, t, -0.5*t**2)))\n",
    "showmat(G)"
   ]
  },
  {
   "cell_type": "code",
   "execution_count": null,
   "metadata": {},
   "outputs": [],
   "source": [
    "# Apply the weighting\n",
    "yw = y/sigma\n",
    "Gw = G / np.hstack((sigma,sigma,sigma))\n",
    "showmat(Gw,2)"
   ]
  },
  {
   "cell_type": "code",
   "execution_count": null,
   "metadata": {},
   "outputs": [],
   "source": [
    "# Solve for the least-squares solution\n",
    "print('Least-squares solution, m =')\n",
    "m = inv(Gw.T@Gw) @ Gw.T @ yw\n",
    "showmat(m,1)"
   ]
  },
  {
   "cell_type": "code",
   "execution_count": null,
   "metadata": {},
   "outputs": [],
   "source": [
    "ginv = inv(Gw.T@Gw) @ Gw.T\n",
    "showmat(ginv,2)"
   ]
  },
  {
   "cell_type": "code",
   "execution_count": null,
   "metadata": {},
   "outputs": [],
   "source": [
    "print('Covariance matrix')\n",
    "covm = ginv @ ginv.T\n",
    "showmat(covm,2)"
   ]
  },
  {
   "cell_type": "code",
   "execution_count": null,
   "metadata": {},
   "outputs": [],
   "source": [
    "# see notes_tarantola.pdf\n",
    "PCONF = 0.95\n",
    "DELTA = scipy.special.erfinv(PCONF)*np.sqrt(2)\n",
    "print(DELTA)"
   ]
  },
  {
   "cell_type": "code",
   "execution_count": null,
   "metadata": {},
   "outputs": [],
   "source": [
    "# Get the 1.96-sigma (95%) conf intervals\n",
    "print('%.2f%% parameter confidence intervals (m-, mest, m+)' % (PCONF*100))\n",
    "delm = DELTA*np.sqrt(np.diag(covm)).reshape((3,1))\n",
    "showmat(np.hstack((m-delm, m, m+delm)),2)"
   ]
  },
  {
   "cell_type": "code",
   "execution_count": null,
   "metadata": {},
   "outputs": [],
   "source": [
    "# Because there are 3 parameters to estimate, we have ndata-3 degrees\n",
    "# of freedom.\n",
    "dof = ndata-3\n",
    "print('Chi-square misfit for %.2f dof' %dof)\n",
    "chi2 = np.linalg.norm((y.reshape((ndata, 1)) - G@m)/sigma.reshape((ndata, 1)))**2\n",
    "\n",
    "# Find the p-value for this data set\n",
    "print('chi-square p-value')\n",
    "p = 1-chi2cdf(chi2,dof)\n",
    "\n",
    "# Find the parameter correlations\n",
    "s=np.sqrt(np.diag(covm)).reshape((3, 1))\n",
    "\n",
    "print('correlation matrix')\n",
    "r = covm / (s@s.T)\n",
    "\n",
    "# Plot the data and model predicted data\n",
    "xx = np.arange(np.min(t)-1,np.max(t)+1+0.05,0.05)\n",
    "mm = m[0][0]+m[1][0]*xx-0.5*m[2][0]*xx**2"
   ]
  },
  {
   "cell_type": "code",
   "execution_count": null,
   "metadata": {},
   "outputs": [],
   "source": [
    "plt.figure(figsize=(9,7))\n",
    "plt.plot(xx,mm,'k')\n",
    "#plt.plot(t,y,'o-')\n",
    "# the flatten() commands are needed, unfortunately:\n",
    "plt.errorbar(t.flatten(),y.flatten(),yerr=sigma.flatten(), ls='none',marker='o',mfc='none',capsize=3,mec='k',ms=3)\n",
    "plt.xlabel('Time (s)')\n",
    "plt.ylabel('Elevation (m)')\n",
    "plt.show()"
   ]
  },
  {
   "cell_type": "code",
   "execution_count": null,
   "metadata": {},
   "outputs": [],
   "source": [
    "print('Displaying Data and Model Fit (fig 1)')\n",
    "\n",
    "# Output covm and the eigenvalues/eigenvectors of covm.\n",
    "print('Covariance matrix for fitted parameters.')\n",
    "print('Eigenvalues/eigenvectors of the covariance matrix')\n",
    "lam,u = np.linalg.eig(inv(covm))\n",
    "showmat([lam],2)\n",
    "showmat(u,2)\n",
    "print('%.1f%% confidence ellipsoid semiaxis lengths' % (PCONF*100))\n",
    "semi_axes = np.sqrt(chi2inv(PCONF,3)*(1/lam))\n",
    "showmat([semi_axes],2)\n",
    "print('%.1f%% confidence ellipsoid semiaxes' % (PCONF*100))"
   ]
  },
  {
   "cell_type": "code",
   "execution_count": null,
   "metadata": {},
   "outputs": [],
   "source": [
    "# Monte Carlo Section\n",
    "y0 = G@m\n",
    "nreal = 1000\n",
    "mmc = np.zeros((3, nreal))\n",
    "chimc = np.zeros(nreal)\n",
    "Ginv = np.linalg.pinv(Gw)\n",
    "\n",
    "for i in range(nreal):\n",
    "    # Generate a trial data set of perturbed, weighted data\n",
    "    noise = np.random.randn(ndata, 1) * sigma\n",
    "    ytrial = y0 + noise\n",
    "    ywtrial = ytrial / sigma\n",
    "    mmx = Ginv @ ywtrial\n",
    "    mmc[:, i] = mmx.flatten()\n",
    "    chimc[i] = np.linalg.norm((G @ mmx - ytrial) / sigma) ** 2\n",
    "#mmc = mmc.T"
   ]
  },
  {
   "cell_type": "code",
   "execution_count": null,
   "metadata": {},
   "outputs": [],
   "source": [
    "# Plot the histogram of chi squared values\n",
    "plt.figure()\n",
    "plt.hist(chimc,30)\n",
    "plt.ylabel('N')\n",
    "plt.xlabel(r'$\\chi^2$')\n",
    "print('Displaying 1000 Monte-Carlo Chi-square Values (fig 2)')"
   ]
  },
  {
   "cell_type": "code",
   "execution_count": null,
   "metadata": {},
   "outputs": [],
   "source": [
    "# Plot the histograms of the model parameters\n",
    "plt.figure(figsize=(10,5))\n",
    "\n",
    "plt.subplot(1,3,1)\n",
    "plt.hist(mmc[0,:])\n",
    "plt.title(r'$m_1 (m)$')\n",
    "\n",
    "plt.subplot(1,3,2)\n",
    "plt.hist(mmc[1,:])\n",
    "plt.title(r'$m_2 (m/s)$')\n",
    "\n",
    "plt.subplot(1,3,3)\n",
    "plt.hist(mmc[2,:])\n",
    "plt.title(r'$m_3 (m/s^2)$')\n",
    "print('Displaying Monte-Carlo Model Histograms (fig 3)')"
   ]
  },
  {
   "cell_type": "code",
   "execution_count": null,
   "metadata": {},
   "outputs": [],
   "source": [
    "# Plot the realizations of each pair of model parameters with the other\n",
    "plt.figure(figsize=(10,5))\n",
    "\n",
    "plt.subplot(1,3,1)\n",
    "plt.plot(mmc[0,:],mmc[1,:],'k*')\n",
    "plt.xlabel(r'$m_1 (m)$')\n",
    "plt.ylabel(r'$m_2 (m/s)$')\n",
    "\n",
    "plt.subplot(1,3,2)\n",
    "plt.plot(mmc[0,:],mmc[2,:],'k*')\n",
    "plt.xlabel(r'$m_1 (m)$')\n",
    "plt.ylabel(r'$m_3 (m/s)$')\n",
    "\n",
    "plt.subplot(1,3,3)\n",
    "plt.plot(mmc[1,:],mmc[2,:],'k*')\n",
    "plt.xlabel(r'$m_2 (m)$')\n",
    "plt.ylabel(r'$m_3 (m/s)$')\n",
    "\n",
    "print('Displaying Projections of 1000 Monte-Carlo models (fig 4)')"
   ]
  },
  {
   "cell_type": "code",
   "execution_count": null,
   "metadata": {},
   "outputs": [],
   "source": [
    "# Plot the 95% error ellipses for each pair of parameters\n",
    "# Note that because we're doing pairs of parameters there are 2\n",
    "# degrees of freedom in the Chi-square here, rather than 3.  \n",
    "\n",
    "deltachisq = chi2inv(PCONF,2)\n",
    "delta = np.sqrt(deltachisq)\n",
    "\n",
    "#generate a vector of angles from 0 to 2*pi\n",
    "theta = np.arange(0,2*np.pi,0.01)\n",
    "#the radii in each direction from the center\n",
    "r = np.zeros((len(theta),2))\n",
    "\n",
    "# compute the data for the m1, m2 ellipsoid.\n",
    "indc = np.ix_([0,1],[0,1])\n",
    "C = covm[indc]\n",
    "#C = covm[:2,:2]\n",
    "[lam,u] = np.linalg.eig(inv(C))\n",
    "lam = np.diag(lam)\n",
    "#calculate the x component of the ellipsoid for all angles\n",
    "r[:,0] = (delta/np.sqrt(lam[0,0]))*u[0,0]*np.cos(theta)+(delta/np.sqrt(lam[1,1]))*u[0,1]*np.sin(theta)\n",
    "#calculate the y component of the ellipsoid for all angles\n",
    "r[:,1] = (delta/np.sqrt(lam[0,0]))*u[1,0]*np.cos(theta)+(delta/np.sqrt(lam[1,1]))*u[1,1]*np.sin(theta)\n",
    "\n",
    "plt.figure(figsize=(15,6))\n",
    "# plot the data for the m1, m2 ellipsoid\n",
    "plt.subplot(1,3,1)\n",
    "plt.plot(m[0]+r[:,0],m[1]+r[:,1],'k')\n",
    "plt.fill(m[0]+r[:,0],m[1]+r[:,1],'k')\n",
    "#axis([-50 50 85 110]);\n",
    "plt.xlabel(r'$m_1 (m)$')\n",
    "plt.ylabel(r'$m_2 (m/s)$')\n",
    "\n",
    "# compute the data for the m1, m3 ellipsoid.\n",
    "indc = np.ix_([0,2],[0,2])\n",
    "C = covm[indc]\n",
    "lam,u = np.linalg.eig(inv(C))\n",
    "lam = np.diag(lam)\n",
    "\n",
    "#calculate the x component of the ellipsoid for all angles\n",
    "r[:,0] = (delta/np.sqrt(lam[0,0]))*u[0,0]*np.cos(theta)+(delta/np.sqrt(lam[1,1]))*u[0,1]*np.sin(theta)\n",
    "#calculate the y component of the ellipsoid for all angles\n",
    "r[:,1] = (delta/np.sqrt(lam[0,0]))*u[1,0]*np.cos(theta)+(delta/np.sqrt(lam[1,1]))*u[1,1]*np.sin(theta)\n",
    "plt.subplot(1,3,2)\n",
    "plt.plot(m[0]+r[:,0],m[2]+r[:,1],'k')\n",
    "plt.fill(m[0]+r[:,0],m[2]+r[:,1],'k')\n",
    "#axis([-50 50 85 110]);\n",
    "plt.xlabel(r'$m_1 (m)$')\n",
    "plt.ylabel(r'$m_3 (m/s)$')\n",
    "\n",
    "# compute the data for the m2, m3 ellipsoid.\n",
    "indc = np.ix_([1,2],[1,2])\n",
    "C = covm[indc]\n",
    "lam,u = np.linalg.eig(inv(C))\n",
    "lam = np.diag(lam)\n",
    "deltachisq = chi2inv(PCONF,2)\n",
    "delta = np.sqrt(deltachisq)\n",
    "\n",
    "#calculate the x component of the ellipsoid for all angles\n",
    "r[:,0] = (delta/np.sqrt(lam[0,0]))*u[0,0]*np.cos(theta)+(delta/np.sqrt(lam[1,1]))*u[0,1]*np.sin(theta)\n",
    "#calculate the y component of the ellipsoid for all angles\n",
    "r[:,1] = (delta/np.sqrt(lam[0,0]))*u[1,0]*np.cos(theta)+(delta/np.sqrt(lam[1,1]))*u[1,1]*np.sin(theta)\n",
    "plt.subplot(1,3,3)\n",
    "plt.plot(m[1]+r[:,0],m[2]+r[:,1],'k')\n",
    "plt.fill(m[1]+r[:,0],m[2]+r[:,1],'k')\n",
    "#axis([-50 50 85 110]);\n",
    "plt.xlabel(r'$m_2 (m)$')\n",
    "plt.ylabel(r'$m_3 (m/s)$')\n",
    "\n",
    "print('Displaying %.1f%% Confidence Ellipse Projections (fig 5)' % (PCONF*100))"
   ]
  },
  {
   "cell_type": "code",
   "execution_count": null,
   "metadata": {},
   "outputs": [],
   "source": [
    "# SAME THING, but instead using plot_ellipse() from lib_geos.py\n",
    "\n",
    "def plot_ellipse_custom(inds,DELTA2,C,m):\n",
    "    indc = np.ix_(inds,inds)\n",
    "    C = covm[indc]\n",
    "    [x,y] = plot_ellipse(DELTA2,C,np.array([m[inds[0]],m[inds[1]]]))\n",
    "    plt.plot(x,y,'r')\n",
    "\n",
    "plt.figure(figsize=(15,6))\n",
    "\n",
    "plt.subplot(1,3,1)\n",
    "plot_ellipse_custom([0,1],deltachisq,C,m)\n",
    "plt.xlabel(r'$m_1 (m)$')\n",
    "plt.ylabel(r'$m_2 (m/s)$')\n",
    "\n",
    "plt.subplot(1,3,2)\n",
    "plot_ellipse_custom([0,2],deltachisq,C,m)\n",
    "plt.xlabel(r'$m_1 (m)$')\n",
    "plt.ylabel(r'$m_3 (m/s)$')\n",
    "\n",
    "plt.subplot(1,3,3)\n",
    "plot_ellipse_custom([1,2],deltachisq,C,m)\n",
    "plt.xlabel(r'$m_2 (m)$')\n",
    "plt.ylabel(r'$m_3 (m/s)$')\n",
    "plt.show()"
   ]
  }
 ],
 "metadata": {
  "interpreter": {
   "hash": "a4e78903152c5c8c0a1611fb4b22aa78baa308a7734308b75819bd49ff5f4ec4"
  },
  "kernelspec": {
   "display_name": "inverse [conda env:inverse]",
   "language": "python",
   "name": "conda-env-inverse-py"
  },
  "language_info": {
   "codemirror_mode": {
    "name": "ipython",
    "version": 3
   },
   "file_extension": ".py",
   "mimetype": "text/x-python",
   "name": "python",
   "nbconvert_exporter": "python",
   "pygments_lexer": "ipython3",
   "version": "3.10.6"
  }
 },
 "nbformat": 4,
 "nbformat_minor": 4
}
