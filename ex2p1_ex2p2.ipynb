{
 "cells": [
  {
   "cell_type": "markdown",
   "metadata": {
    "collapsed": false,
    "jupyter": {
     "outputs_hidden": false
    }
   },
   "source": [
    "# Inverse Problems and Parameter Estimation, GEOS 627/427, University of Alaska Fairbanks\n",
    "\n",
    "- script ex2p1_ex2p2.ipynb"
   ]
  },
  {
   "cell_type": "code",
   "execution_count": null,
   "metadata": {
    "collapsed": false,
    "jupyter": {
     "outputs_hidden": false
    }
   },
   "outputs": [],
   "source": [
    "%matplotlib inline"
   ]
  },
  {
   "cell_type": "code",
   "execution_count": null,
   "metadata": {
    "collapsed": false,
    "jupyter": {
     "outputs_hidden": false
    }
   },
   "outputs": [],
   "source": [
    "import warnings\n",
    "\n",
    "import matplotlib.pyplot as plt\n",
    "import numpy as np\n",
    "import scipy.io\n",
    "import scipy.special\n",
    "from numpy.linalg import inv\n",
    "from sympy.matrices import Matrix\n",
    "\n",
    "from lib_inverse import plot_ellipse\n",
    "from lib_peip import chi2cdf\n",
    "from lib_peip import chi2inv"
   ]
  },
  {
   "cell_type": "code",
   "execution_count": null,
   "metadata": {
    "collapsed": false,
    "jupyter": {
     "outputs_hidden": false
    }
   },
   "outputs": [],
   "source": [
    "# script settings\n",
    "\n",
    "warnings.filterwarnings('ignore')"
   ]
  },
  {
   "cell_type": "code",
   "execution_count": null,
   "metadata": {
    "scrolled": true
   },
   "outputs": [],
   "source": [
    "# load data\n",
    "dat   = scipy.io.loadmat('data/data1.mat')\n",
    "data1 = dat['data1']\n",
    "t     = data1[:,0]\n",
    "y     = data1[:,1]\n",
    "sigma = data1[:,2]\n",
    "ndata = len(t)\n",
    "\n",
    "print('displaying t, y, sigma:')\n",
    "#[t , y , sigma]\n",
    "Matrix(np.concatenate((t.reshape(ndata,1),y.reshape(ndata,1),sigma.reshape(ndata,1)),axis=1))"
   ]
  },
  {
   "cell_type": "code",
   "execution_count": null,
   "metadata": {},
   "outputs": [],
   "source": [
    "# Build the parabolic system matrix\n",
    "G = np.concatenate(((np.ones((ndata,1)), t.reshape((ndata, 1)), -0.5*t.reshape((ndata, 1))**2)),axis=1)\n",
    "\n",
    "Matrix(G)"
   ]
  },
  {
   "cell_type": "code",
   "execution_count": null,
   "metadata": {},
   "outputs": [],
   "source": [
    "# Apply the weighting\n",
    "yw = (y/sigma).reshape((ndata,1))\n",
    "Gw = G/np.concatenate((sigma.reshape((ndata,1)),sigma.reshape((ndata,1)),sigma.reshape((ndata,1))),axis=1)\n",
    "\n",
    "# Solve for the least-squares solution\n",
    "print('Least-squares solution')\n",
    "m = inv(Gw.T@Gw)@Gw.T@yw\n",
    "\n",
    "ginv = inv(Gw.T@Gw)@Gw.T\n",
    "\n",
    "print('Covariance matrix')\n",
    "covm = ginv@ginv.T\n",
    "\n",
    "# Get the 1.96-sigma (95%) conf intervals\n",
    "print('95% parameter confidence intervals (m-, mest, m+)')\n",
    "delm = 1.96*np.sqrt(np.diag(covm)).reshape((3, 1))\n",
    "[m-delm , m , m+delm]\n",
    "# Because there are 3 parameters to estimate, we have ndata-3 degrees\n",
    "# of freedom.\n",
    "#\n",
    "dof = ndata-3\n",
    "print('Chi-square misfit for %.2f dof' %dof)\n",
    "chi2 = np.linalg.norm((y.reshape((ndata, 1)) - G@m)/sigma.reshape((ndata, 1)))**2\n",
    "\n",
    "# Find the p-value for this data set\n",
    "print('chi-square p-value')\n",
    "p = 1-chi2cdf(chi2,dof)\n",
    "\n",
    "# Find the parameter correlations\n",
    "s=np.sqrt(np.diag(covm)).reshape((3, 1))\n",
    "\n",
    "print('correlation matrix')\n",
    "r = covm/(s@s.T)\n",
    "\n",
    "# Plot the data and model predicted data\n",
    "xx = np.arange(np.min(t)-1,np.max(t)+1+0.05,0.05)\n",
    "mm = m[0][0]+m[1][0]*xx-0.5*m[2][0]*xx**2"
   ]
  },
  {
   "cell_type": "code",
   "execution_count": null,
   "metadata": {},
   "outputs": [],
   "source": [
    "plt.figure(figsize=(9,7))\n",
    "plt.plot(xx,mm,'k')\n",
    "#plt.plot(t,y,'o-')\n",
    "#plt.errorbar(t,y,yerr=sigma,marker='s',mfc='k',ms=10)\n",
    "plt.errorbar(t,y,yerr=sigma, ls='none',marker='o',mfc='none',capsize=3,mec='k',ms=3)\n",
    "plt.xlabel('Time (s)')\n",
    "plt.ylabel('Elevation (m)')\n",
    "plt.show()"
   ]
  },
  {
   "cell_type": "code",
   "execution_count": null,
   "metadata": {},
   "outputs": [],
   "source": [
    "print('Displaying Data and Model Fit (fig 1)')\n",
    "# Output covm and the eigenvalues/eigenvectors of covm.\n",
    "print('Covariance matrix for fitted parameters.')\n",
    "print('Eigenvalues/eigenvectors of the covariance matrix')\n",
    "lam,u = np.linalg.eig(inv(covm))\n",
    "print('95% confidence ellipsoid semiaxis lengths')\n",
    "semi_axes = [np.sqrt(chi2inv(0.95,3)*(1/lam))]\n",
    "print('95% confidence ellipsoid semiaxes')\n",
    "# Monte Carlo Section\n",
    "y0 = G@m\n",
    "mmc=np.zeros((3,1000))\n",
    "chimc=[]\n",
    "for nreal in range(1000):\n",
    "  # Generate a trial data set of perturbed, weighted data\n",
    "  ytrial = y0.reshape((ndata,1))+sigma.reshape((ndata,1))*np.random.randn(ndata,1)\n",
    "  ywtrial = ytrial/sigma.reshape((ndata,1))\n",
    "  mmc[:,nreal] = (np.linalg.pinv(Gw)@ywtrial).flatten()\n",
    "  chimc.append(np.linalg.norm((G@mmc[:,nreal]-ytrial.flatten())/sigma)**2)\n",
    "\n",
    "mmc = mmc.T"
   ]
  },
  {
   "cell_type": "code",
   "execution_count": null,
   "metadata": {},
   "outputs": [],
   "source": [
    "# Plot the histogram of chi squared values\n",
    "plt.figure()\n",
    "plt.hist(chimc,30)\n",
    "plt.ylabel('N')\n",
    "plt.xlabel(r'$\\chi^2$')\n",
    "print('Displaying 1000 Monte-Carlo Chi-square Values (fig 2)')\n"
   ]
  },
  {
   "cell_type": "code",
   "execution_count": null,
   "metadata": {},
   "outputs": [],
   "source": [
    "# Plot the histograms of the model parameters\n",
    "plt.figure(figsize=(10,5))\n",
    "\n",
    "plt.subplot(1,3,1)\n",
    "plt.hist(mmc[:,0])\n",
    "plt.title(r'$m_1 (m)$')\n",
    "\n",
    "plt.subplot(1,3,2)\n",
    "plt.hist(mmc[:,1])\n",
    "plt.title(r'$m_2 (m/s)$')\n",
    "\n",
    "plt.subplot(1,3,3)\n",
    "plt.hist(mmc[:,2])\n",
    "plt.title(r'$m_3 (m/s^2)$')\n",
    "print('Displaying Monte-Carlo Model Histograms (fig 3)')"
   ]
  },
  {
   "cell_type": "code",
   "execution_count": null,
   "metadata": {},
   "outputs": [],
   "source": [
    "# Plot the realizations of each pair of model parameters with the other\n",
    "plt.figure(figsize=(10,5))\n",
    "\n",
    "plt.subplot(1,3,1)\n",
    "plt.plot(mmc[:,0],mmc[:,1],'k*')\n",
    "plt.xlabel(r'$m_1 (m)$')\n",
    "plt.ylabel(r'$m_2 (m/s)$')\n",
    "\n",
    "plt.subplot(1,3,2)\n",
    "plt.plot(mmc[:,0],mmc[:,2],'k*')\n",
    "plt.xlabel(r'$m_1 (m)$')\n",
    "plt.ylabel(r'$m_3 (m/s)$')\n",
    "\n",
    "plt.subplot(1,3,3)\n",
    "plt.plot(mmc[:,1],mmc[:,2],'k*')\n",
    "plt.xlabel(r'$m_2 (m)$')\n",
    "plt.ylabel(r'$m_3 (m/s)$')\n",
    "\n",
    "print('Displaying Projections of 1000 Monte-Carlo models (fig 4)')"
   ]
  },
  {
   "cell_type": "code",
   "execution_count": null,
   "metadata": {},
   "outputs": [],
   "source": [
    "# Plot the 95% error ellipses for each pair of parameters\n",
    "# Note that because we're doing pairs of parameters there are 2\n",
    "# degrees of freedom in the Chi-square here, rather than 3.  \n",
    "\n",
    "deltachisq = chi2inv(0.95,2)\n",
    "delta = np.sqrt(deltachisq)\n",
    "\n",
    "#generate a vector of angles from 0 to 2*pi\n",
    "theta = np.arange(0,2*np.pi,0.01)\n",
    "#the radii in each direction from the center\n",
    "r = np.zeros((len(theta),2))\n",
    "\n",
    "# compute the data for the m1, m2 ellipsoid.\n",
    "indc = np.ix_([0,1],[0,1])\n",
    "C = covm[indc]\n",
    "#C = covm[:2,:2]\n",
    "[lam,u] = np.linalg.eig(inv(C))\n",
    "lam = np.diag(lam)\n",
    "#calculate the x component of the ellipsoid for all angles\n",
    "r[:,0] = (delta/np.sqrt(lam[0,0]))*u[0,0]*np.cos(theta)+(delta/np.sqrt(lam[1,1]))*u[0,1]*np.sin(theta)\n",
    "#calculate the y component of the ellipsoid for all angles\n",
    "r[:,1] = (delta/np.sqrt(lam[0,0]))*u[1,0]*np.cos(theta)+(delta/np.sqrt(lam[1,1]))*u[1,1]*np.sin(theta)\n",
    "\n",
    "plt.figure(figsize=(15,6))\n",
    "# plot the data for the m1, m2 ellipsoid\n",
    "plt.subplot(1,3,1)\n",
    "plt.plot(m[0]+r[:,0],m[1]+r[:,1],'k')\n",
    "plt.fill(m[0]+r[:,0],m[1]+r[:,1],'k')\n",
    "#axis([-50 50 85 110]);\n",
    "plt.xlabel(r'$m_1 (m)$')\n",
    "plt.ylabel(r'$m_2 (m/s)$')\n",
    "\n",
    "# compute the data for the m1, m3 ellipsoid.\n",
    "indc = np.ix_([0,2],[0,2])\n",
    "C = covm[indc]\n",
    "lam,u = np.linalg.eig(inv(C))\n",
    "lam = np.diag(lam)\n",
    "\n",
    "#calculate the x component of the ellipsoid for all angles\n",
    "r[:,0] = (delta/np.sqrt(lam[0,0]))*u[0,0]*np.cos(theta)+(delta/np.sqrt(lam[1,1]))*u[0,1]*np.sin(theta)\n",
    "#calculate the y component of the ellipsoid for all angles\n",
    "r[:,1] = (delta/np.sqrt(lam[0,0]))*u[1,0]*np.cos(theta)+(delta/np.sqrt(lam[1,1]))*u[1,1]*np.sin(theta)\n",
    "plt.subplot(1,3,2)\n",
    "plt.plot(m[0]+r[:,0],m[2]+r[:,1],'k')\n",
    "plt.fill(m[0]+r[:,0],m[2]+r[:,1],'k')\n",
    "#axis([-50 50 85 110]);\n",
    "plt.xlabel(r'$m_1 (m)$')\n",
    "plt.ylabel(r'$m_3 (m/s)$')\n",
    "\n",
    "# compute the data for the m2, m3 ellipsoid.\n",
    "indc = np.ix_([1,2],[1,2])\n",
    "C = covm[indc]\n",
    "lam,u = np.linalg.eig(inv(C))\n",
    "lam = np.diag(lam)\n",
    "deltachisq = chi2inv(0.95,2)\n",
    "delta = np.sqrt(deltachisq)\n",
    "#calculate the x component of the ellipsoid for all angles\n",
    "r[:,0] = (delta/np.sqrt(lam[0,0]))*u[0,0]*np.cos(theta)+(delta/np.sqrt(lam[1,1]))*u[0,1]*np.sin(theta)\n",
    "#calculate the y component of the ellipsoid for all angles\n",
    "r[:,1] = (delta/np.sqrt(lam[0,0]))*u[1,0]*np.cos(theta)+(delta/np.sqrt(lam[1,1]))*u[1,1]*np.sin(theta)\n",
    "plt.subplot(1,3,3)\n",
    "plt.plot(m[1]+r[:,0],m[2]+r[:,1],'k')\n",
    "plt.fill(m[1]+r[:,0],m[2]+r[:,1],'k')\n",
    "#axis([-50 50 85 110]);\n",
    "plt.xlabel(r'$m_2 (m)$')\n",
    "plt.ylabel(r'$m_3 (m/s)$')\n",
    "\n",
    "print('Displaying 95% Confidence Ellipse Projections (fig 5)')"
   ]
  },
  {
   "cell_type": "code",
   "execution_count": null,
   "metadata": {},
   "outputs": [],
   "source": [
    "# SAME THING, but instead using plot_ellipse() from lib_geos.py\n",
    "\n",
    "def plot_ellipse_custom(inds,DELTA2,C,m):\n",
    "    indc = np.ix_(inds,inds)\n",
    "    C = covm[indc]\n",
    "    [x,y] = plot_ellipse(DELTA2,C,np.array([m[inds[0]],m[inds[1]]]))\n",
    "    plt.plot(x,y,'r')\n",
    "\n",
    "plt.figure(figsize=(15,6))\n",
    "\n",
    "plt.subplot(1,3,1)\n",
    "plot_ellipse_custom([0,1],deltachisq,C,m)\n",
    "plt.xlabel(r'$m_1 (m)$')\n",
    "plt.ylabel(r'$m_2 (m/s)$')\n",
    "\n",
    "plt.subplot(1,3,2)\n",
    "plot_ellipse_custom([0,2],deltachisq,C,m)\n",
    "plt.xlabel(r'$m_1 (m)$')\n",
    "plt.ylabel(r'$m_3 (m/s)$')\n",
    "\n",
    "plt.subplot(1,3,3)\n",
    "plot_ellipse_custom([1,2],deltachisq,C,m)\n",
    "plt.xlabel(r'$m_2 (m)$')\n",
    "plt.ylabel(r'$m_3 (m/s)$')\n",
    "plt.show()"
   ]
  }
 ],
 "metadata": {
  "interpreter": {
   "hash": "a4e78903152c5c8c0a1611fb4b22aa78baa308a7734308b75819bd49ff5f4ec4"
  },
  "kernelspec": {
   "display_name": "inverse [conda env:inverse]",
   "language": "python",
   "name": "conda-env-inverse-py"
  },
  "language_info": {
   "codemirror_mode": {
    "name": "ipython",
    "version": 3
   },
   "file_extension": ".py",
   "mimetype": "text/x-python",
   "name": "python",
   "nbconvert_exporter": "python",
   "pygments_lexer": "ipython3",
   "version": "3.10.6"
  }
 },
 "nbformat": 4,
 "nbformat_minor": 4
}
