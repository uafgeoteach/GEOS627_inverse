{
 "cells": [
  {
   "cell_type": "markdown",
   "source": [
    "# Inverse Problems and Parameter Estimation, GEOS 627/427, University of Alaska Fairbanks\n",
    "\n",
    "- script lab_sampling.ipynb"
   ],
   "metadata": {
    "collapsed": false
   }
  },
  {
   "cell_type": "code",
   "execution_count": null,
   "outputs": [],
   "source": [
    "%matplotlib inline"
   ],
   "metadata": {
    "collapsed": false
   }
  },
  {
   "cell_type": "code",
   "execution_count": null,
   "outputs": [],
   "source": [
    "import warnings\n",
    "\n",
    "import matplotlib.pyplot as plt\n",
    "import numpy as np\n",
    "from matplotlib import cm\n",
    "from matplotlib.colors import LightSource\n",
    "from mpl_toolkits.mplot3d import Axes3D \n",
    "from scipy.integrate import quad\n",
    "\n",
    "from lib_geos import plot_histo"
   ],
   "metadata": {
    "collapsed": false
   }
  },
  {
   "cell_type": "code",
   "execution_count": null,
   "outputs": [],
   "source": [
    "# script settings\n",
    "\n",
    "warnings.filterwarnings('ignore')"
   ],
   "metadata": {
    "collapsed": false
   }
  },
  {
   "cell_type": "code",
   "execution_count": null,
   "metadata": {},
   "outputs": [],
   "source": [
    "# limits for x to consider\n",
    "# OUTSIDE THESE LIMITS WE ASSUME THAT p(x) = 0\n",
    "xmin = -15\n",
    "xmax = 12\n",
    "# note that parameters like A1, A2, x1, x2 must be assigned before p()\n",
    "x1 = -2\n",
    "A1 = 2\n",
    "sig1 = 2\n",
    "x2 =  4\n",
    "A2 = 1\n",
    "sig2 = 0.5;\n",
    "\n",
    "# KEY COMMANDS\n",
    "ifun = 1      # 1 or 2\n",
    "iannot = 0    # =1 for annotations in one subplot\n",
    "\n",
    "# define in-line function p(x)\n",
    "if ifun==1:\n",
    "    def p(x):\n",
    "        return A1*np.exp(-(x-x1)**2/(2*sig1**2))\n",
    "if ifun==2:\n",
    "    def p(x):\n",
    "        return A1*np.exp(-(x-x1)**2/(2*sig1**2))+A2*np.exp(-(x-x2)**2/(2*sig2**2))\n",
    "    \n",
    "ncurve = 1000\n",
    "xcurve = np.linspace(xmin,xmax,ncurve)\n",
    "pcurve = p(xcurve)\n",
    "\n",
    "# generate samples\n",
    "# KEY: what does np.random.random() do?\n",
    "NTRY = 1e5\n",
    "xtry = xmin + (xmax-xmin)*np.random.random((int(NTRY),1))\n",
    "# sample the function\n",
    "A = np.max([A1,A2]);                       # note: only true for our choice of p(x)\n",
    "#A = np.max(pcurve);                       # (will work for any densely discretized p(x))\n",
    "ptry = p(xtry) / A;                        # SET A: values between 0 and 1\n",
    "ztry = np.random.random((int(NTRY),1))     # SET B: values between 0 and 1\n",
    "\n",
    "# KEY COMMAND: compare pairs of test samples in sets A and B,\n",
    "#              then accept or reject the test sample\n",
    "ikeep = ptry > ztry\n",
    "xkeep = xtry[ikeep]"
   ]
  },
  {
   "cell_type": "code",
   "execution_count": null,
   "metadata": {},
   "outputs": [],
   "source": [
    "# LAB EXERCISE HERE\n",
    "\n",
    "\n"
   ]
  },
  {
   "cell_type": "code",
   "execution_count": null,
   "metadata": {},
   "outputs": [],
   "source": [
    "# parameters for histograms\n",
    "dxbin = 0.2\n",
    "dpbin = 0.05    # 0.05, 0.1, 0.2\n",
    "edgesx = np.arange(xmin,xmax+dxbin,dxbin)\n",
    "nedgesx = len(edgesx)\n",
    "edgesp = np.arange(0,1+dpbin,dpbin)\n",
    "nedgesp = len(edgesp)\n",
    "print(len(edgesx))\n",
    "fig=plt.figure(figsize = (7,8))\n",
    "nr=3\n",
    "nc=2\n",
    "\n",
    "plt.subplot(nr,nc,1)\n",
    "plt.plot(xcurve,pcurve/A)\n",
    "if iannot == 1:\n",
    "    for jj in range(3):   # loop over 3 differnt p-bins\n",
    "        if jj == 0:       # last bin\n",
    "            ileftbin = nedgesp - 2\n",
    "            pc = 'r.'\n",
    "            pl = 'r--'\n",
    "        elif jj == 1:     # middle bin\n",
    "            ileftbin = int(np.round(nedgesp*0.50))\n",
    "            pc = 'k.'\n",
    "            pl = 'k--'\n",
    "        elif jj == 2:\n",
    "            ileftbin = 0  # first bin\n",
    "            pc = 'c.'\n",
    "            pl = 'c--'\n",
    "\n",
    "        Pcut1 = edgesp[ileftbin]\n",
    "        Pcut2 = edgesp[ileftbin+1]\n",
    "        isub = (pcurve/A >= Pcut1)*(pcurve/A < Pcut2)\n",
    "\n",
    "        plt.plot(xcurve[isub],pcurve[isub]/A,pc)\n",
    "        plt.plot(np.array([xmin,xmax]),Pcut1*np.array([1,1]),pl)\n",
    "        plt.plot(np.array([xmin,xmax]),Pcut2*np.array([1,1]),pl)\n",
    "\n",
    "plt.xlabel('x')\n",
    "plt.ylabel('p(x) / A')\n",
    "plt.title('(a)  p(x) / A')\n",
    "\n",
    "plt.subplot(nr,nc,2)\n",
    "plot_histo(xtry,edgesx)\n",
    "plt.xlabel('xtry')\n",
    "plt.title('(b)  xtry')\n",
    "\n",
    "plt.subplot(nr,nc,3)\n",
    "plot_histo(ptry,edgesp)\n",
    "plt.xlabel('p(xtry) / A')\n",
    "plt.title('(c)  p(xtry) / A') \n",
    "\n",
    "plt.subplot(nr,nc,4)\n",
    "plot_histo(ztry,edgesp)\n",
    "plt.xlabel('ztry')\n",
    "plt.title('(d)  ztry')\n",
    "\n",
    "plt.subplot(nr,nc,5)\n",
    "plot_histo(xkeep,edgesx)\n",
    "plt.xlabel('xkeep')\n",
    "plt.title('(e)  xkeep')\n",
    "\n",
    "# if p is a probability density and F is the misfit function, then\n",
    "#    p(x) = exp(-F(x))\n",
    "#    F(x) = -ln(p(x))\n",
    "plt.subplot(nr,nc,6)\n",
    "plt.plot(xcurve,-np.log(pcurve))\n",
    "plt.xlabel('x')\n",
    "plt.ylabel('F(x) = -ln(p(x))')\n",
    "plt.title('(f)  F(x)')\n",
    "\n",
    "plt.subplots_adjust(wspace=0.3,hspace=0.5)"
   ]
  },
  {
   "cell_type": "code",
   "execution_count": null,
   "metadata": {},
   "outputs": [],
   "source": [
    "# 2 x 2 summary plot\n",
    "\n",
    "fig=plt.figure(figsize=(7,8))\n",
    "#fig.tight_layout() \n",
    "nr=2\n",
    "nc=2\n",
    "\n",
    "plt.subplot(nr,nc,1)\n",
    "plot_histo(xtry,edgesx)\n",
    "plt.xlabel('xtry')\n",
    "plt.title('(a)  xtry')\n",
    "\n",
    "plt.subplot(nr,nc,2)\n",
    "plot_histo(ptry,edgesp)\n",
    "plt.xlabel('p(xtry) / A')\n",
    "plt.title('(b)  p(xtry) / A') \n",
    "\n",
    "plt.subplot(nr,nc,3)\n",
    "plot_histo(xkeep,edgesx)\n",
    "plt.xlabel('xkeep')\n",
    "plt.title('(c)  xkeep')\n",
    "\n",
    "plt.subplot(nr,nc,4)\n",
    "plot_histo(ptry[ikeep],edgesp)\n",
    "plt.xlabel('xkeep')\n",
    "plt.title('(d)  p(xkeep)/A')\n",
    "\n",
    "plt.subplots_adjust(wspace=0.3,hspace=0.8)"
   ]
  },
  {
   "cell_type": "code",
   "execution_count": null,
   "metadata": {},
   "outputs": [],
   "source": [
    "# define a test function\n",
    "\n"
   ]
  },
  {
   "cell_type": "code",
   "execution_count": null,
   "metadata": {},
   "outputs": [],
   "source": [
    "# define a grid for evaluating and plotting your function\n",
    "nx = 100\n",
    "ny = nx+1      # avoid square arrays (for debugging)\n",
    "n = nx*ny\n",
    "xmin = -3\n",
    "xmax = 3\n",
    "ymin = -2\n",
    "ymax = 2\n",
    "xvec = np.linspace(xmin,xmax,num=nx)\n",
    "yvec = np.linspace(ymin,ymax,num=ny)\n",
    "# matix form\n",
    "[X,Y] = np.meshgrid(xvec,yvec)\n",
    "# vector form\n",
    "x = X.flatten(order='F')\n",
    "y = Y.flatten(order='F')"
   ]
  },
  {
   "cell_type": "code",
   "execution_count": null,
   "metadata": {},
   "outputs": [],
   "source": [
    "# OPTION A -- pass vector to p(), then plot as matrix\n",
    "pplot = p(x,y)\n",
    "Pplot = np.reshape(pplot,(ny,nx))\n",
    "plt.figure()\n",
    "plt.pcolor(X,Y,Pplot,cmap='jet')\n",
    "#plt.axis('equal')\n",
    "plt.show()"
   ]
  },
  {
   "cell_type": "code",
   "execution_count": null,
   "metadata": {},
   "outputs": [],
   "source": [
    "# OPTION B -- pass matrix to p(), then plot as matrix\n",
    "Fplot = p(X,Y)\n",
    "plt.figure() \n",
    "plt.pcolor(X,Y,Fplot,cmap='jet')\n",
    "#plt.axis('equal')\n",
    "plt.show()"
   ]
  },
  {
   "cell_type": "code",
   "execution_count": null,
   "metadata": {},
   "outputs": [],
   "source": [
    "# OPTION C -- plot as vector\n",
    "plt.figure()\n",
    "plt.scatter(x,y,s=4**2,c=pplot,cmap='jet')\n",
    "#plt.axis('equal')\n",
    "plt.show()"
   ]
  },
  {
   "cell_type": "code",
   "execution_count": null,
   "metadata": {},
   "outputs": [],
   "source": [
    "# OPTION D -- plot matrix on 3D surface\n",
    "light = LightSource(50, -45)\n",
    "rgb = np.ones((Fplot.shape[0], Fplot.shape[1], 3))\n",
    "illuminated_surface = light.shade_rgb(rgb, Fplot)\n",
    "ax = Axes3D(plt.figure(figsize=(7,8)))\n",
    "surf = ax.plot_surface(X, Y, Fplot, cmap=cm.jet,linewidth=0, antialiased=False)"
   ]
  },
  {
   "cell_type": "code",
   "execution_count": null,
   "metadata": {},
   "outputs": [],
   "source": []
  }
 ],
 "metadata": {
  "interpreter": {
   "hash": "053dc3b0a894b7eb257a1e45fdc32da76da9863afb1526d2fc5c429f06d38699"
  },
  "kernelspec": {
   "name": "python3",
   "language": "python",
   "display_name": "Python 3 (ipykernel)"
  },
  "language_info": {
   "codemirror_mode": {
    "name": "ipython",
    "version": 3
   },
   "file_extension": ".py",
   "mimetype": "text/x-python",
   "name": "python",
   "nbconvert_exporter": "python",
   "pygments_lexer": "ipython3",
   "version": "3.8.12"
  }
 },
 "nbformat": 4,
 "nbformat_minor": 2
}
