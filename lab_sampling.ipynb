{
 "cells": [
  {
   "cell_type": "markdown",
   "metadata": {
    "collapsed": false,
    "jupyter": {
     "outputs_hidden": false
    }
   },
   "source": [
    "### Inverse Problems and Parameter Estimation, GEOS 627/427, University of Alaska Fairbanks\n",
    "\n",
    "- script lab_sampling.ipynb"
   ]
  },
  {
   "cell_type": "code",
   "execution_count": null,
   "metadata": {
    "collapsed": false,
    "jupyter": {
     "outputs_hidden": false
    }
   },
   "outputs": [],
   "source": [
    "%matplotlib inline\n",
    "#%matplotlib widget"
   ]
  },
  {
   "cell_type": "code",
   "execution_count": null,
   "metadata": {
    "collapsed": false,
    "jupyter": {
     "outputs_hidden": false
    }
   },
   "outputs": [],
   "source": [
    "import matplotlib.pyplot as plt\n",
    "import numpy as np\n",
    "from matplotlib import cm\n",
    "from matplotlib.colors import LightSource\n",
    "from mpl_toolkits.mplot3d import Axes3D \n",
    "from scipy.integrate import quad\n",
    "import warnings\n",
    "\n",
    "from lib_geos import plot_histo"
   ]
  },
  {
   "cell_type": "code",
   "execution_count": null,
   "metadata": {
    "collapsed": false,
    "jupyter": {
     "outputs_hidden": false
    }
   },
   "outputs": [],
   "source": [
    "# script settings\n",
    "\n",
    "warnings.filterwarnings('ignore')"
   ]
  },
  {
   "cell_type": "code",
   "execution_count": null,
   "metadata": {},
   "outputs": [],
   "source": [
    "# limits for x to consider\n",
    "# OUTSIDE THESE LIMITS WE ASSUME THAT p(x) = 0\n",
    "xmin = -15\n",
    "xmax = 12\n",
    "# note that parameters like A1, A2, x1, x2 must be assigned before p()\n",
    "x1 = -2\n",
    "A1 = 2\n",
    "sig1 = 2\n",
    "x2 =  4\n",
    "A2 = 1\n",
    "sig2 = 0.5\n",
    "\n",
    "# KEY COMMANDS\n",
    "ifunction_choice = 1      # 1 or 2\n",
    "iannotation = 0           # =1 for annotations in one of the subplots\n",
    "\n",
    "# define in-line function p(x)\n",
    "if ifunction_choice==1:\n",
    "    def p(x):\n",
    "        return A1*np.exp(-(x-x1)**2/(2*sig1**2))\n",
    "if ifunction_choice==2:\n",
    "    def p(x):\n",
    "        return A1*np.exp(-(x-x1)**2/(2*sig1**2)) + A2*np.exp(-(x-x2)**2/(2*sig2**2))"
   ]
  },
  {
   "cell_type": "code",
   "execution_count": null,
   "metadata": {},
   "outputs": [],
   "source": [
    "# values for plotting p(x) as a continuous curve\n",
    "ncurve = 1000\n",
    "xcurve = np.linspace(xmin,xmax,ncurve)\n",
    "pcurve = p(xcurve)"
   ]
  },
  {
   "cell_type": "code",
   "execution_count": null,
   "metadata": {
    "scrolled": true
   },
   "outputs": [],
   "source": [
    "# generate samples\n",
    "# KEY: what does np.random.random() do?\n",
    "NTRY = 100000\n",
    "xtry = xmin + (xmax-xmin)*np.random.random((NTRY,1))\n",
    "# sample the function\n",
    "A = np.max([A1,A2]);                       # note: only true for our choice of p(x)\n",
    "#A = np.max(pcurve);                       # (will work for any densely discretized p(x))\n",
    "ptry = p(xtry) / A;                        # SET A: values between 0 and 1\n",
    "ztry = np.random.random((NTRY,1))          # SET B: values between 0 and 1\n",
    "\n",
    "#ztry = np.reshape(np.linspace(0,1,NTRY),(NTRY,1))\n",
    "\n",
    "# KEY COMMAND: compare pairs of test samples in sets A and B,\n",
    "#              then accept or reject the test sample\n",
    "ikeep = ptry > ztry    # sample is rejected when ptry < ztry\n",
    "\n",
    "# get the x-values of the kept samples\n",
    "xkeep = xtry[ikeep]"
   ]
  },
  {
   "cell_type": "code",
   "execution_count": null,
   "metadata": {},
   "outputs": [],
   "source": [
    "# LAB EXERCISE HERE\n",
    "\n",
    "\n"
   ]
  },
  {
   "cell_type": "code",
   "execution_count": null,
   "metadata": {},
   "outputs": [],
   "source": [
    "# parameters for histograms\n",
    "dxbin = 0.2\n",
    "dpbin = 0.05    # 0.05, 0.1, 0.2\n",
    "edgesx = np.arange(xmin,xmax+dxbin,dxbin)\n",
    "nedgesx = len(edgesx)\n",
    "edgesp = np.arange(0,1+dpbin,dpbin)\n",
    "nedgesp = len(edgesp)\n",
    "print(len(edgesx))\n",
    "\n",
    "# opens the figure with 3 x 2 subplots\n",
    "fig=plt.figure(figsize = (7,8))\n",
    "nr=3\n",
    "nc=2\n",
    "\n",
    "plt.subplot(nr,nc,1)\n",
    "plt.plot(xcurve,pcurve/A)\n",
    "if iannotation == 1:\n",
    "    for jj in range(3):   # loop over 3 different p-bins\n",
    "        if jj == 0:       # last bin\n",
    "            ileftbin = nedgesp - 2\n",
    "            pc = 'r.'\n",
    "            pl = 'r--'\n",
    "        elif jj == 1:     # middle bin\n",
    "            ileftbin = int(np.round(nedgesp*0.50))\n",
    "            pc = 'k.'\n",
    "            pl = 'k--'\n",
    "        elif jj == 2:\n",
    "            ileftbin = 0  # first bin\n",
    "            pc = 'c.'\n",
    "            pl = 'c--'\n",
    "\n",
    "        Pcut1 = edgesp[ileftbin]\n",
    "        Pcut2 = edgesp[ileftbin+1]\n",
    "        isub = (pcurve/A >= Pcut1)*(pcurve/A < Pcut2)\n",
    "\n",
    "        plt.plot(xcurve[isub],pcurve[isub]/A,pc)\n",
    "        plt.plot(np.array([xmin,xmax]),Pcut1*np.array([1,1]),pl)\n",
    "        plt.plot(np.array([xmin,xmax]),Pcut2*np.array([1,1]),pl)\n",
    "\n",
    "plt.xlabel('x')\n",
    "plt.ylabel('p(x) / A')\n",
    "plt.title('(a)  p(x) / A')\n",
    "\n",
    "plt.subplot(nr,nc,2)\n",
    "plot_histo(xtry,edgesx)\n",
    "plt.xlabel('xtry')\n",
    "plt.title('(b)  xtry')\n",
    "\n",
    "plt.subplot(nr,nc,3)\n",
    "plot_histo(ptry,edgesp)\n",
    "plt.xlabel('p(xtry) / A')\n",
    "plt.title('(c)  p(xtry) / A') \n",
    "\n",
    "plt.subplot(nr,nc,4)\n",
    "plot_histo(ztry,edgesp)\n",
    "plt.xlabel('ztry')\n",
    "plt.title('(d)  ztry')\n",
    "\n",
    "plt.subplot(nr,nc,5)\n",
    "plot_histo(xkeep,edgesx)\n",
    "plt.xlabel('xkeep')\n",
    "plt.title('(e)  xkeep')\n",
    "\n",
    "# if p is a probability density and F is the misfit function, then\n",
    "#    p(x) = exp(-F(x))\n",
    "#    F(x) = -ln(p(x))\n",
    "plt.subplot(nr,nc,6)\n",
    "plt.plot(xcurve,-np.log(pcurve))\n",
    "plt.xlabel('x')\n",
    "plt.ylabel('F(x) = -ln(p(x))')\n",
    "plt.title('(f)  F(x)')\n",
    "\n",
    "plt.subplots_adjust(wspace=0.3,hspace=0.5)"
   ]
  },
  {
   "cell_type": "code",
   "execution_count": null,
   "metadata": {},
   "outputs": [],
   "source": [
    "# 2 x 2 summary plot\n",
    "\n",
    "fig=plt.figure(figsize=(7,8))\n",
    "#fig.tight_layout() \n",
    "nr=2\n",
    "nc=2\n",
    "\n",
    "plt.subplot(nr,nc,1)\n",
    "plot_histo(xtry,edgesx)\n",
    "plt.xlabel('xtry')\n",
    "plt.title('(a)  xtry')\n",
    "\n",
    "plt.subplot(nr,nc,2)\n",
    "plot_histo(ptry,edgesp)\n",
    "plt.xlabel('p(xtry) / A')\n",
    "plt.title('(b)  p(xtry) / A') \n",
    "\n",
    "plt.subplot(nr,nc,3)\n",
    "plot_histo(xkeep,edgesx)\n",
    "plt.xlabel('xkeep')\n",
    "plt.title('(c)  xkeep')\n",
    "\n",
    "plt.subplot(nr,nc,4)\n",
    "plot_histo(ptry[ikeep],edgesp)\n",
    "plt.xlabel('xkeep')\n",
    "plt.title('(d)  p(xkeep)/A')\n",
    "\n",
    "plt.subplots_adjust(wspace=0.3,hspace=0.8)"
   ]
  },
  {
   "cell_type": "code",
   "execution_count": null,
   "metadata": {
    "scrolled": true
   },
   "outputs": [],
   "source": [
    "# LAB EXERCISE HERE\n",
    "# define a test function\n",
    "\n"
   ]
  },
  {
   "cell_type": "code",
   "execution_count": null,
   "metadata": {},
   "outputs": [],
   "source": [
    "# define a grid for evaluating and plotting your function\n",
    "nx = 100\n",
    "ny = nx+1      # avoid square arrays (for debugging)\n",
    "n = nx*ny\n",
    "xmin = -3\n",
    "xmax = 3\n",
    "ymin = -2\n",
    "ymax = 2\n",
    "xvec = np.linspace(xmin,xmax,num=nx)\n",
    "yvec = np.linspace(ymin,ymax,num=ny)\n",
    "# matrix form\n",
    "[X,Y] = np.meshgrid(xvec,yvec)\n",
    "# vector form\n",
    "x = X.flatten(order='F')\n",
    "y = Y.flatten(order='F')"
   ]
  },
  {
   "cell_type": "code",
   "execution_count": null,
   "metadata": {},
   "outputs": [],
   "source": [
    "# OPTION A -- pass vectors x and y to p(), then plot as matrix\n",
    "pplot = p(x,y)\n",
    "Pplot = np.reshape(pplot,(ny,nx),order='F')\n",
    "plt.figure()\n",
    "plt.pcolor(X,Y,Pplot,cmap='jet')\n",
    "#plt.axis('equal')\n",
    "plt.show()"
   ]
  },
  {
   "cell_type": "code",
   "execution_count": null,
   "metadata": {},
   "outputs": [],
   "source": [
    "# OPTION B -- pass matrices X and Y to p(), then plot as matrix\n",
    "Fplot = p(X,Y)\n",
    "plt.figure() \n",
    "plt.pcolor(X,Y,Fplot,cmap='jet')\n",
    "#plt.axis('equal')\n",
    "plt.show()"
   ]
  },
  {
   "cell_type": "code",
   "execution_count": null,
   "metadata": {},
   "outputs": [],
   "source": [
    "# OPTION C -- plot as vector\n",
    "plt.figure()\n",
    "plt.scatter(x,y,s=4**2,c=pplot,cmap='jet')\n",
    "#plt.axis('equal')\n",
    "plt.show()"
   ]
  },
  {
   "cell_type": "code",
   "execution_count": null,
   "metadata": {},
   "outputs": [],
   "source": [
    "# OPTION D -- 3D surface plot\n",
    "light = LightSource(50, -45)\n",
    "illuminated_surface = light.shade(Fplot, cmap=cm.jet)\n",
    "fig, ax = plt.subplots(subplot_kw={'projection': '3d'}, figsize=(7, 8))\n",
    "surf = ax.plot_surface(X, Y, Fplot, facecolors=illuminated_surface, linewidth=0)\n",
    "plt.show()"
   ]
  },
  {
   "cell_type": "code",
   "execution_count": null,
   "metadata": {},
   "outputs": [],
   "source": []
  }
 ],
 "metadata": {
  "interpreter": {
   "hash": "053dc3b0a894b7eb257a1e45fdc32da76da9863afb1526d2fc5c429f06d38699"
  },
  "kernelspec": {
   "display_name": "inverse [conda env:inverse]",
   "language": "python",
   "name": "conda-env-inverse-py"
  },
  "language_info": {
   "codemirror_mode": {
    "name": "ipython",
    "version": 3
   },
   "file_extension": ".py",
   "mimetype": "text/x-python",
   "name": "python",
   "nbconvert_exporter": "python",
   "pygments_lexer": "ipython3",
   "version": "3.10.6"
  }
 },
 "nbformat": 4,
 "nbformat_minor": 4
}
