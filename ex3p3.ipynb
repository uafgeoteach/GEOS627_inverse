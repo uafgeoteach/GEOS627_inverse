{
 "cells": [
  {
   "cell_type": "markdown",
   "metadata": {
    "collapsed": false,
    "jupyter": {
     "outputs_hidden": false
    }
   },
   "source": [
    "### Inverse Problems and Parameter Estimation, GEOS 627/427, University of Alaska Fairbanks\n",
    "\n",
    "- script ex3p3.ipynb\n",
    "- Aster Example 3.3"
   ]
  },
  {
   "cell_type": "code",
   "execution_count": null,
   "metadata": {},
   "outputs": [],
   "source": [
    "%matplotlib inline"
   ]
  },
  {
   "cell_type": "code",
   "execution_count": null,
   "metadata": {},
   "outputs": [],
   "source": [
    "%run lib_header.py"
   ]
  },
  {
   "cell_type": "code",
   "execution_count": null,
   "metadata": {},
   "outputs": [],
   "source": [
    "import scipy.linalg as la\n",
    "import scipy.io\n",
    "\n",
    "from lib_peip import *     # plotconst_mod\n",
    "from lib_inverse import *  # svdmat"
   ]
  },
  {
   "cell_type": "code",
   "execution_count": null,
   "metadata": {},
   "outputs": [],
   "source": [
    "dat = scipy.io.loadmat('data/shaw20.mat')\n",
    "d = dat['d']\n",
    "G = dat['G']\n",
    "m = dat['m']\n",
    "\n",
    "(ndata,nparm) = G.shape\n",
    "print('G is %i x %i' % (G.shape))\n",
    "p = np.max((ndata,nparm))\n",
    "parr = np.arange(1,p+1)\n",
    "print('parr :',parr)"
   ]
  },
  {
   "cell_type": "code",
   "execution_count": null,
   "metadata": {},
   "outputs": [],
   "source": [
    "xlims = [-np.pi/2,np.pi/2]\n",
    "\n",
    "# Compute the SVD\n",
    "[U,S,V] = svdmat(G)\n",
    "#[U, s, VH] = np.linalg.svd(G) \n",
    "#S=scipy.linalg.diagsvd(s,*G.shape)\n",
    "#V=VH.T\n",
    "\n",
    "# Create a spike model\n",
    "spike = np.zeros((nparm,1))\n",
    "spike[9] = 1\n",
    "\n",
    "# Get the ideal shaw spike data (dspike).\n",
    "dspike = G@spike\n",
    "\n",
    "# Plot the singular values of G on a semi-log plot.\n",
    "plt.figure(1)\n",
    "plt.semilogy(parr,np.diag(S),'ko',mfc='w')\n",
    "plt.xticks(ticks=parr),\n",
    "plt.ylim([10^-18,10^3])\n",
    "plt.xlabel('Singular value index k')\n",
    "plt.ylabel('$s_k$')\n",
    "print('Displaying singular values of G (fig. 1)')"
   ]
  },
  {
   "cell_type": "code",
   "execution_count": null,
   "metadata": {},
   "outputs": [],
   "source": [
    "plt.figure(2)\n",
    "plotconst_mod(V[:,17],-np.pi/2,np.pi/2,'k-',1)\n",
    "plt.xlabel(r'$\\theta$ (radians)')\n",
    "plt.xlim(xlims)\n",
    "plt.ylabel('Intensity')\n",
    "print('Displaying column 18 of matrix V (fig. 2)')"
   ]
  },
  {
   "cell_type": "code",
   "execution_count": null,
   "metadata": {},
   "outputs": [],
   "source": [
    "#plot column 1 of V.\n",
    "plt.figure(3)\n",
    "plotconst_mod(V[:,0],-np.pi/2,np.pi/2,'k-',1)\n",
    "plt.xlabel(r'$\\theta$ (radians)')\n",
    "plt.xlim(xlims)\n",
    "plt.ylabel('Intensity')\n",
    "print('Displaying column 1 of matrix V (fig. 3)')\n",
    "#print -deps2 c3fV_1.eps"
   ]
  },
  {
   "cell_type": "code",
   "execution_count": null,
   "metadata": {},
   "outputs": [],
   "source": [
    "plt.figure(4)\n",
    "plotconst_mod(spike,-np.pi/2,np.pi/2,'k-',1)\n",
    "plt.xlabel(r'$\\theta$ (radians)')\n",
    "plt.xlim(xlims)\n",
    "plt.ylabel('Intensity')\n",
    "print('Displaying spike model (fig. 4)') "
   ]
  },
  {
   "cell_type": "code",
   "execution_count": null,
   "metadata": {},
   "outputs": [],
   "source": [
    "# Plot the noise-free Shaw spike data.\n",
    "plt.figure(5)\n",
    "plotconst_mod(dspike,-np.pi/2,np.pi/2,'k-',1)\n",
    "plt.axis([-2,2 ,-0.25, .75])\n",
    "plt.ylabel('Intensity')\n",
    "plt.xlabel('s (radians)')\n",
    "plt.xlim(xlims)\n",
    "\n",
    "print('Displaying noise-free data for Shaw spike model (fig. 5)')"
   ]
  },
  {
   "cell_type": "code",
   "execution_count": null,
   "metadata": {},
   "outputs": [],
   "source": [
    "# Create slightly noisy data (dspiken) and see what happens.\n",
    "dspiken = dspike + 1.0e-6*np.random.randn(dspike.shape[0],dspike.shape[1])\n",
    "\n",
    "# Generalized solution for noise-free data\n",
    "#spikemod = np.linalg.inv(G)@dspike\n",
    "spikemod = la.solve(G,dspike)\n",
    "\n",
    "# Find the pseudoinverse solution with noisy data for p = 18.\n",
    "p = 18\n",
    "Up = U[:,:p]\n",
    "Vp = V[:,:p]\n",
    "Sp = S[:p,:p]\n",
    "Sinv = la.inv(Sp)\n",
    "spikemod18n = Vp@Sinv@Up.T@dspiken\n",
    "\n",
    "# Plot generalized inverse solution for noise-free spike model data\n",
    "plt.figure(6)\n",
    "plotconst_mod(spikemod,-np.pi/2,np.pi/2,'k-',1)\n",
    "plt.axis([-2,2 ,-0.5, 1.5])\n",
    "plt.ylabel('Intensity')\n",
    "plt.xlabel(r'$\\theta$ (radians)')\n",
    "plt.xlim(xlims)\n",
    "print('Displaying recovered spike model for noise-free data (fig. 6)')"
   ]
  },
  {
   "cell_type": "code",
   "execution_count": null,
   "metadata": {},
   "outputs": [],
   "source": [
    "# Plot recovered model for noisy data, p = 18\n",
    "plt.figure(7)\n",
    "plotconst_mod(spikemod18n,-np.pi/2,np.pi/2,'k-',1)\n",
    "plt.ylabel('Intensity')\n",
    "plt.xlabel(r'$\\theta$ (radians)')\n",
    "plt.xlim(xlims)\n",
    "print('Displaying recovered spike model for noisy data p = 18 (fig. 7)')"
   ]
  },
  {
   "cell_type": "code",
   "execution_count": null,
   "metadata": {},
   "outputs": [],
   "source": [
    "# Find the pseudoinverse solution with noisy data for p = 10.\n",
    "p = 10\n",
    "Up = U[:,:p]\n",
    "Vp = V[:,:p]\n",
    "Sp = S[:p,:p]\n",
    "Sinv = la.inv(Sp)\n",
    "\n",
    "# recover the noise-free model\n",
    "spikemod10 = Vp@Sinv@Up.T@dspike\n",
    "# recover the noisy model\n",
    "spikemod10n = Vp@Sinv@Up.T@dspiken\n",
    "\n",
    "# Plot recovered model for noise-free data, p = 10 \n",
    "plt.figure(8)\n",
    "plotconst_mod(spikemod10,-np.pi/2,np.pi/2,'k-',1)\n",
    "plt.ylabel('Intensity')\n",
    "plt.xlabel(r'$\\theta$ (radians)')\n",
    "plt.xlim(xlims)\n",
    "print('Displaying recovered spike model for noise-free data p = 10 (fig. 8)')"
   ]
  },
  {
   "cell_type": "code",
   "execution_count": null,
   "metadata": {},
   "outputs": [],
   "source": [
    "# Plot recovered model for noisy data, p = 10 \n",
    "plt.figure(8)\n",
    "plotconst_mod(spikemod10n,-np.pi/2,np.pi/2,'k-',1)\n",
    "plt.ylabel('Intensity')\n",
    "plt.xlabel(r'$\\theta$ (radians)')\n",
    "plt.xlim(xlims)\n",
    "print('Displaying recovered spike model for noisy data p = 10 (fig. 9)')"
   ]
  },
  {
   "cell_type": "code",
   "execution_count": null,
   "metadata": {},
   "outputs": [],
   "source": [
    "dat = scipy.io.loadmat('data/shaw100.mat')\n",
    "d100 = dat['d100']\n",
    "G100 = dat['G100']\n",
    "m100 = dat['m100']"
   ]
  },
  {
   "cell_type": "code",
   "execution_count": null,
   "metadata": {},
   "outputs": [],
   "source": [
    "# compute the svd\n",
    "[U100,S100,V100] = svdmat(G100)\n",
    "#[U100,s100,VH100] = np.linalg.svd(G100) \n",
    "#S100 = scipy.linalg.diagsvd(s100,*G100.shape)\n",
    "#V100 = VH100.T\n",
    "\n",
    "# Get spike for n = 100 case\n",
    "spike100 = np.zeros((100,1))\n",
    "spike100[45:50] = np.ones((5,1))\n",
    "\n",
    "#Get spike date for n = 100 case without noise\n",
    "spikedata100 = G100@spike100\n",
    "# Add noise to get noisy data\n",
    "spikedata100n = spikedata100+1.0e-6*np.random.randn(100,1)\n",
    "\n",
    "# get the matrices for p = 10\n",
    "p = 10\n",
    "Up = U100[:,:p]\n",
    "Vp = V100[:,:p]\n",
    "Sp = S100[:p,:p]\n",
    "Sinv = la.inv(Sp)\n",
    "\n",
    "# recover the model from noisy data\n",
    "spikeinv100n = Vp@Sinv@Up.T@spikedata100n\n",
    "\n",
    "# Plot spectrum of singular values for n = 100 problem\n",
    "plt.figure(10)\n",
    "plt.semilogy(np.diag(S100),'ko',mfc='w')\n",
    "plt.xlabel('Singular value index i')\n",
    "plt.ylabel(r'$s_i$')\n",
    "plt.ylim([1e-20,1e5])\n",
    "print('Singular values of G for Shaw problem (n = 100) (fig. 10)')\n",
    "#print -deps2 c3fshawsing_100.eps\n",
    "\n",
    "#Plot recovered model for noisy data with n = 100, p = 10\n",
    "plt.figure(11)\n",
    "plotconst_mod(spikeinv100n,-np.pi/2,np.pi/2,'k-',1)\n",
    "plt.axis([-2,2,-0.25,.75])\n",
    "plt.ylabel('Intensity')\n",
    "plt.xlabel(r'$\\theta$ (radians)')\n",
    "plt.xlim(xlims)\n",
    "print('Displaying recovered spike model for n = 100, p = 10 with noisy data (fig. 11)')"
   ]
  },
  {
   "cell_type": "code",
   "execution_count": null,
   "metadata": {},
   "outputs": [],
   "source": [
    "# Now try p = 18 case on n = 100 data\n",
    "p = 18\n",
    "Up = U100[:,:p]\n",
    "Vp = V100[:,:p]\n",
    "Sp = S100[:p,:p]\n",
    "Sinv = la.inv(Sp)\n",
    "\n",
    "# Get recovered model\n",
    "spikeinv100n18 = Vp@Sinv@Up.T@spikedata100n\n",
    "\n",
    "#Plot recovered model for noisy data with n = 100, p = 18\n",
    "plt.figure(12)\n",
    "plotconst_mod(spikeinv100n18,-np.pi/2,np.pi/2,'k-',1)\n",
    "#plt.axis([-2,2,-0.25,.75])\n",
    "plt.ylabel('Intensity')\n",
    "plt.xlabel(r'$\\theta$ (radians)')\n",
    "plt.xlim(xlims)\n",
    "print('Displaying recovered spike model for n = 100, p = 18 with noisy data(fig. 11)')"
   ]
  },
  {
   "cell_type": "code",
   "execution_count": null,
   "metadata": {},
   "outputs": [],
   "source": [
    "# Now, the 6 element discretization.\n",
    "# Get the singular values of G for n = 6\n",
    "dat = scipy.io.loadmat('data/shaw6.mat')\n",
    "d6 = dat['d6']\n",
    "G6 = dat['G6']\n",
    "m6 = dat['m6']\n",
    "\n",
    "[U6,S6,V6] = svdmat(G6)\n",
    "s = np.diag(S6)\n",
    "#[U6,s6,VH6] = np.linalg.svd(G6) \n",
    "#S6 = scipy.linalg.diagsvd(s6,*G6.shape)\n",
    "#V6 = VH6.T\n",
    "\n",
    "# Plot singular values of G for n = 6\n",
    "plt.figure(13)\n",
    "plt.semilogy(np.arange(1,len(s)+1),s,'ko-',ms=12,mfc='w')\n",
    "plt.xlabel('Singular value index k')\n",
    "plt.ylabel('$s_k$')\n",
    "plt.xlim([0,len(U6)+1])\n",
    "print('Displaying singular values of G for n = 6 (fig. 13)')"
   ]
  }
 ],
 "metadata": {
  "interpreter": {
   "hash": "7f341b321178e62fbbfacfb91167ed733f9907f6f0692efdceb8394e8303ba73"
  },
  "kernelspec": {
   "display_name": "inverse [conda env:inverse]",
   "language": "python",
   "name": "conda-env-inverse-py"
  },
  "language_info": {
   "codemirror_mode": {
    "name": "ipython",
    "version": 3
   },
   "file_extension": ".py",
   "mimetype": "text/x-python",
   "name": "python",
   "nbconvert_exporter": "python",
   "pygments_lexer": "ipython3",
   "version": "3.10.6"
  }
 },
 "nbformat": 4,
 "nbformat_minor": 4
}
