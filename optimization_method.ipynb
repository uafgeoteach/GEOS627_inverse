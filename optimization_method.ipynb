{
 "cells": [
  {
   "cell_type": "code",
   "execution_count": null,
   "metadata": {},
   "outputs": [],
   "source": [
    "import numpy as np\n",
    "import scipy.linalg as la"
   ]
  },
  {
   "cell_type": "code",
   "execution_count": null,
   "metadata": {},
   "outputs": [],
   "source": [
    "# display initial model\n",
    "nn = 0\n",
    "print([' iteration ' +str(nn) +' out of ' +str(niter) ])\n",
    "print('%i/%i : %10s%16s%16s'% (nn,niter,'prior', 'current', 'target'))\n",
    "for ii in range(len(mprior)):\n",
    "    print('%16s%16s%16s'%(str(mprior[ii]),str(mnew[ii]),str(mtarget[ii])))\n",
    "\n",
    "if imethod==1:    # Newton method (full Hessian)\n",
    "    print(' Newton method -- SKIP')\n",
    "    \n",
    "elif imethod==2: # quasi-Newton\n",
    "    print(' quasi-Newton method -- NOT YET IMPLEMENTED')\n",
    "    for nn in range(1,niter+1):\n",
    "        print([' iteration ' +str(nn) +' out of ' +str(niter) ]);\n",
    "        \n",
    "        # TYPE YOUR CODE IN HERE\n",
    "\n",
    "        \n",
    "        \n",
    "        \n",
    "        # misfit function for new model\n",
    "        #Sd_vec[nn] = \n",
    "        #Sm_vec[nn] = \n",
    "        #S_vec[nn] = \n",
    "\n",
    "        print('%i/%i : %10s%16s%16s'% (nn,niter,'prior', 'current', 'target'))\n",
    "        for ii in range(len(mprior)):\n",
    "            print('%16s    %16s    %16s'%(str(mprior[ii]),str(mnew[ii]),str(mtarget[ii])))\n",
    "            \n",
    "elif imethod==3: # steepest descent\n",
    "    print(' steepest descent -- NOT YET IMPLEMENTED')\n",
    "    \n",
    "elif imethod==4: # conjugate gradient\n",
    "    print(' conjugate gradient -- NOT YET IMPLEMENTED')\n",
    "    \n",
    "elif imethod==6: # variable metric (matrix version)\n",
    "    print(' variable metric (matrix version) -- NOT YET IMPLEMENTED')\n",
    "\n",
    "# misfit function values\n",
    "print('summary of misfit function:')\n",
    "print('%8s%16s%16s%16s'% ('iter','Sd','Sm','S = Sm + Sd'))\n",
    "for nn in range(0,niter+1):\n",
    "    print('%8i%16.10f%16.10f%16.10f' % (iter_vec[nn],Sd_vec[nn],Sm_vec[nn],S_vec[nn]))"
   ]
  }
 ],
 "metadata": {
  "interpreter": {
   "hash": "7f341b321178e62fbbfacfb91167ed733f9907f6f0692efdceb8394e8303ba73"
  },
  "kernelspec": {
   "display_name": "inverse [conda env:inverse]",
   "language": "python",
   "name": "conda-env-inverse-py"
  },
  "language_info": {
   "codemirror_mode": {
    "name": "ipython",
    "version": 3
   },
   "file_extension": ".py",
   "mimetype": "text/x-python",
   "name": "python",
   "nbconvert_exporter": "python",
   "pygments_lexer": "ipython3",
   "version": "3.10.6"
  }
 },
 "nbformat": 4,
 "nbformat_minor": 4
}
