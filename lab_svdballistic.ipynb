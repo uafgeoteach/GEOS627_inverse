{
 "cells": [
  {
   "cell_type": "markdown",
   "metadata": {
    "collapsed": false,
    "jupyter": {
     "outputs_hidden": false
    }
   },
   "source": [
    "### Inverse Problems and Parameter Estimation, GEOS 627/427, University of Alaska Fairbanks\n",
    "\n",
    "- script lab_svdballistic.ipynb"
   ]
  },
  {
   "cell_type": "code",
   "execution_count": null,
   "metadata": {
    "collapsed": false,
    "jupyter": {
     "outputs_hidden": false
    }
   },
   "outputs": [],
   "source": [
    "%matplotlib inline"
   ]
  },
  {
   "cell_type": "code",
   "execution_count": null,
   "metadata": {},
   "outputs": [],
   "source": [
    "%run lib_header.py"
   ]
  },
  {
   "cell_type": "code",
   "execution_count": null,
   "metadata": {
    "collapsed": false,
    "jupyter": {
     "outputs_hidden": false
    }
   },
   "outputs": [],
   "source": [
    "import scipy.linalg as la\n",
    "\n",
    "from lib_inverse import svdall\n",
    "from lib_inverse import plot_matrix"
   ]
  },
  {
   "cell_type": "code",
   "execution_count": null,
   "metadata": {},
   "outputs": [],
   "source": [
    "tmin = 0    # min time\n",
    "tmax = 4    # max time\n",
    "ax0 = [tmin-1,tmax+1,-1,6]\n",
    "\n",
    "# items for plotting continuous solutions\n",
    "nplot = 100\n",
    "tplot = np.reshape(np.linspace(ax0[0],ax0[1],nplot),(nplot,1))\n",
    "Gplot = np.hstack((np.ones((nplot,1)), tplot, -0.5*tplot**2))\n",
    "\n",
    "nparm = 3\n",
    "# default data for the unique and exact solution parabola\n",
    "t0 = np.array([[0,2,3]]).T\n",
    "y0 = np.array([[3,4,3]]).T\n",
    "ndata = len(y0)\n",
    "print('data [t y]:')\n",
    "showmat(np.hstack((t0,y0)))"
   ]
  },
  {
   "cell_type": "code",
   "execution_count": null,
   "metadata": {},
   "outputs": [],
   "source": [
    "# construct G, solve for mdagger, and plot the trajectory\n",
    "\n"
   ]
  }
 ],
 "metadata": {
  "interpreter": {
   "hash": "053dc3b0a894b7eb257a1e45fdc32da76da9863afb1526d2fc5c429f06d38699"
  },
  "kernelspec": {
   "display_name": "inverse [conda env:inverse]",
   "language": "python",
   "name": "conda-env-inverse-py"
  },
  "language_info": {
   "codemirror_mode": {
    "name": "ipython",
    "version": 3
   },
   "file_extension": ".py",
   "mimetype": "text/x-python",
   "name": "python",
   "nbconvert_exporter": "python",
   "pygments_lexer": "ipython3",
   "version": "3.10.6"
  }
 },
 "nbformat": 4,
 "nbformat_minor": 4
}
