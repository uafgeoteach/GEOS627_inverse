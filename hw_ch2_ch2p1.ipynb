{
 "cells": [
  {
   "cell_type": "code",
   "execution_count": null,
   "metadata": {},
   "outputs": [],
   "source": [
    "#matplotlib inline\n",
    "from sympy.matrices import Matrix # symbolic math package\n",
    "import matplotlib.pyplot as plt\n",
    "import numpy as np\n",
    "from numpy.linalg import inv\n",
    "import numpy.matlib\n",
    "import scipy.linalg\n",
    "import scipy.special\n",
    "from matplotlib import path\n",
    "from scipy.stats import chi2 as chi_2   # chi2pdf\n",
    "import warnings\n",
    "warnings.filterwarnings('ignore')\n",
    "\n",
    "from lib_geos import *\n",
    "from lib_peip import *  # chi2inv"
   ]
  },
  {
   "cell_type": "code",
   "execution_count": null,
   "metadata": {},
   "outputs": [],
   "source": [
    "ndata = 6     # number of data points\n",
    "nparm = 2     # number of model parameters\n",
    "\n",
    "# vector of distances\n",
    "# start of refraction\n",
    "xstart = 5 + 1/3\n",
    "# end of refraction\n",
    "xmax = 5*xstart\n",
    "x = np.linspace(np.ceil(xstart),xmax,ndata)\n",
    "x = x.reshape((ndata,1))\n",
    "\n",
    "# vector of first arrival times\n",
    "t = np.array([3.4935,4.2853,5.1374,5.8181,6.8632,8.1841])"
   ]
  }
 ],
 "metadata": {
  "interpreter": {
   "hash": "7f341b321178e62fbbfacfb91167ed733f9907f6f0692efdceb8394e8303ba73"
  },
  "kernelspec": {
   "display_name": "inverse [conda env:inverse]",
   "language": "python",
   "name": "conda-env-inverse-py"
  },
  "language_info": {
   "codemirror_mode": {
    "name": "ipython",
    "version": 3
   },
   "file_extension": ".py",
   "mimetype": "text/x-python",
   "name": "python",
   "nbconvert_exporter": "python",
   "pygments_lexer": "ipython3",
   "version": "3.10.6"
  }
 },
 "nbformat": 4,
 "nbformat_minor": 4
}
