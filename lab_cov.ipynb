{
 "cells": [
  {
   "cell_type": "markdown",
   "id": "915a203424c63efb",
   "metadata": {
    "collapsed": false,
    "jupyter": {
     "outputs_hidden": false
    }
   },
   "source": [
    "# Inverse Problems and Parameter Estimation, GEOS 627/427, University of Alaska Fairbanks\n",
    "\n",
    "- script lab_cov.ipynb"
   ]
  },
  {
   "cell_type": "code",
   "execution_count": null,
   "id": "bedfef25c359a5a2",
   "metadata": {
    "collapsed": false,
    "jupyter": {
     "outputs_hidden": false
    }
   },
   "outputs": [],
   "source": [
    "%matplotlib inline"
   ]
  },
  {
   "cell_type": "code",
   "execution_count": null,
   "id": "46ffb4cc",
   "metadata": {
    "collapsed": false,
    "jupyter": {
     "outputs_hidden": false
    }
   },
   "outputs": [],
   "source": [
    "import warnings\n",
    "\n",
    "import matplotlib.pyplot as plt\n",
    "import numpy as np\n",
    "from sympy.matrices import Matrix\n",
    "\n",
    "from lib_geos import plot_histo"
   ]
  },
  {
   "cell_type": "code",
   "execution_count": null,
   "id": "7d62f54a20efc70b",
   "metadata": {
    "collapsed": false,
    "jupyter": {
     "outputs_hidden": false
    }
   },
   "outputs": [],
   "source": [
    "# script settings\n",
    "\n",
    "warnings.filterwarnings('ignore')"
   ]
  },
  {
   "cell_type": "code",
   "execution_count": null,
   "id": "dbba3332",
   "metadata": {},
   "outputs": [],
   "source": [
    "# check if fancy matrix display is working\n",
    "# for some reason, you only see the matrix if it is the last command in a cell\n",
    "# (you can see what happens if you uncomment the bottom line)\n",
    "A = np.array([[-1, 0, -4], [0, 2, 1], [1, 1, 4]])\n",
    "print(A)\n",
    "Matrix(A)\n",
    "#print(A)"
   ]
  },
  {
   "cell_type": "code",
   "execution_count": null,
   "id": "4f3122d5",
   "metadata": {},
   "outputs": [],
   "source": [
    "# test vectors\n",
    "a = np.array([[1], [2], [3]])\n",
    "b = np.array([[1], [2], [3], [4], [5]])"
   ]
  },
  {
   "cell_type": "code",
   "execution_count": null,
   "id": "a58408fd",
   "metadata": {
    "scrolled": true
   },
   "outputs": [],
   "source": [
    "Matrix(a)"
   ]
  },
  {
   "cell_type": "code",
   "execution_count": null,
   "id": "b8542d61",
   "metadata": {},
   "outputs": [],
   "source": [
    "Matrix(b)"
   ]
  },
  {
   "cell_type": "code",
   "execution_count": null,
   "id": "a9e1f316",
   "metadata": {},
   "outputs": [],
   "source": [
    "# example of filling up a matrix\n",
    "nparm = 3    # this is n in our class notes, but it could alternatively be ndata = p\n",
    "nsample = 5  # this is p in our class notes\n",
    "w = np.random.randn(nparm,nsample)\n",
    "\n",
    "# DO NOT DISPLAY A MATRIX MUCH LARGER THAN THE ONE HERE\n",
    "# (how can we display this with formatting such as %.2f)\n",
    "Matrix(w)"
   ]
  },
  {
   "cell_type": "code",
   "execution_count": null,
   "id": "68faf303",
   "metadata": {},
   "outputs": [],
   "source": [
    "# START YOUR WORK HERE TO CALCULATE THE MEAN AND COVARIANCE OF THE SAMPLES\n",
    "\n",
    "\n",
    "\n",
    "\n",
    "\n",
    "# dummy calculation\n",
    "Csamp = np.random.randn(nparm,nparm)"
   ]
  },
  {
   "cell_type": "code",
   "execution_count": null,
   "id": "b100ffcd",
   "metadata": {},
   "outputs": [],
   "source": [
    "# compare the entries of two matrices with no zero entries\n",
    "# (A-B)/A gives the percent difference for each entry\n",
    "def comparemat(A,B):\n",
    "    Cresidual = A-B\n",
    "    # note: ord=2 is the L2-norm\n",
    "    print('A is %i x %i' % A.shape)\n",
    "    print('(A-B)/B = ',np.linalg.norm(np.divide(Cresidual,A),ord=2))"
   ]
  },
  {
   "cell_type": "code",
   "execution_count": null,
   "id": "844e7861",
   "metadata": {},
   "outputs": [],
   "source": [
    "# numerical check between blackbox python command (cov) and your own calculation (Csamp)\n",
    "#Csamp_python = np.cov(w,rowvar=False) # numpy assumes rows are variables\n",
    "Csamp_python = np.cov(w)\n",
    "\n",
    "print('checking our cov calculation vs python:');\n",
    "comparemat(Csamp,Csamp_python)"
   ]
  },
  {
   "cell_type": "code",
   "execution_count": null,
   "id": "315103af",
   "metadata": {},
   "outputs": [],
   "source": [
    "# plot covariance matrices\n",
    "\n",
    "plt.figure(figsize=(10,9))\n",
    "plt.imshow(Csamp,cmap='jet',vmin=0,vmax=1)\n",
    "plt.colorbar()\n",
    "plt.axis('tight')\n",
    "\n",
    "plt.show()"
   ]
  }
 ],
 "metadata": {
  "kernelspec": {
   "display_name": "inverse [conda env:inverse]",
   "language": "python",
   "name": "conda-env-inverse-py"
  },
  "language_info": {
   "codemirror_mode": {
    "name": "ipython",
    "version": 3
   },
   "file_extension": ".py",
   "mimetype": "text/x-python",
   "name": "python",
   "nbconvert_exporter": "python",
   "pygments_lexer": "ipython3",
   "version": "3.10.6"
  }
 },
 "nbformat": 4,
 "nbformat_minor": 5
}
