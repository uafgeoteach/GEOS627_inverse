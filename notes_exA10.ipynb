{
 "cells": [
  {
   "cell_type": "code",
   "execution_count": null,
   "metadata": {},
   "outputs": [],
   "source": [
    "# Coded by Yuan Tian at UAF 2021.01\n",
    "import matplotlib.pyplot as plt\n",
    "import numpy as np\n",
    "from sympy.matrices import Matrix\n",
    "import scipy.linalg as la"
   ]
  },
  {
   "cell_type": "code",
   "execution_count": null,
   "metadata": {},
   "outputs": [],
   "source": [
    "print('example matrix (A.49):')\n",
    "A = np.array([[3,1,9,4],[2,1,7,3],[5,2,16,7]])\n",
    "Matrix(A)"
   ]
  },
  {
   "cell_type": "code",
   "execution_count": null,
   "metadata": {},
   "outputs": [],
   "source": [
    "A1 = Matrix(A)\n",
    "rref_mat, rref_ind = A1.rref() # Get both the RREF and the pivots\n",
    "print('rref(A) (A.50) =')\n",
    "A1.rref()[0]"
   ]
  },
  {
   "cell_type": "code",
   "execution_count": null,
   "metadata": {},
   "outputs": [],
   "source": [
    "# relationship between two null spaces\n",
    "nA1 = la.null_space(A)\n",
    "nA2 = np.hstack((A1.nullspace()[0],A1.nullspace()[0]))\n",
    "q = np.linalg.pinv(nA1)@nA2\n",
    "print('nA1*q =')\n",
    "Matrix(nA1@q)"
   ]
  },
  {
   "cell_type": "code",
   "execution_count": null,
   "metadata": {},
   "outputs": [],
   "source": [
    "print('basis vectors for null space (A.51):')\n",
    "x1 = np.array([-2,-3,1 ,0]).reshape((4,1))\n",
    "x2 = np.array([-1 ,-1 ,0 ,1]).reshape((4,1))\n",
    "\n",
    "print('one choice of b for A*x = b (A.52)')\n",
    "b = np.array([22,17,39]).reshape(3,1)        # given\n",
    "#b = randi(99,3,1)       # most b are in the null space\n",
    "AB = np.hstack((A,b))\n",
    "AB1 = Matrix(AB)\n",
    "AB1"
   ]
  },
  {
   "cell_type": "code",
   "execution_count": null,
   "metadata": {},
   "outputs": [],
   "source": [
    "rrefAB, rref_ind = AB1.rref()\n",
    "rrefAB"
   ]
  },
  {
   "cell_type": "code",
   "execution_count": null,
   "metadata": {},
   "outputs": [],
   "source": [
    "# choice of b leads to adding x0 to the solution: p = xn + x0\n",
    "# (set x3 = x4 = 0)\n",
    "x0 = np.vstack((rrefAB[:2,4],np.array([0,0]).reshape((2,1))))\n",
    "Matrix(x0)"
   ]
  },
  {
   "cell_type": "code",
   "execution_count": null,
   "metadata": {},
   "outputs": [],
   "source": [
    "# given solution to Ax = b\n",
    "p = np.array([1, 2, 1, 2]).reshape(4,1)\n",
    "Matrix(p)"
   ]
  },
  {
   "cell_type": "code",
   "execution_count": null,
   "metadata": {},
   "outputs": [],
   "source": [
    "# solve for s and t\n",
    "st = np.linalg.pinv(np.hstack((x1,x2))) @ (p - x0)\n",
    "Matrix(st)"
   ]
  },
  {
   "cell_type": "code",
   "execution_count": null,
   "metadata": {},
   "outputs": [],
   "source": [
    "# choose the \"one particular solution\" as in Aster\n",
    "print('solution vector p corresponds to this choice of s and t (A.53):')\n",
    "s = st[0][0]\n",
    "t = st[1][0]\n",
    "print(\"s = \",s)\n",
    "print(\"t = \",t)"
   ]
  },
  {
   "cell_type": "code",
   "execution_count": null,
   "metadata": {},
   "outputs": [],
   "source": [
    "# Eq A.53\n",
    "xn = s*x1 + t*x2\n",
    "print('xn=')\n",
    "Matrix(xn)"
   ]
  },
  {
   "cell_type": "code",
   "execution_count": null,
   "metadata": {},
   "outputs": [],
   "source": [
    "print('p = xn + x0:')\n",
    "p = xn + x0\n",
    "Matrix(p)"
   ]
  },
  {
   "cell_type": "code",
   "execution_count": null,
   "metadata": {},
   "outputs": [],
   "source": [
    "print('add another null space vector to p (A.54):')\n",
    "s=2\n",
    "t=3\n",
    "#s=0 t=0\n",
    "xn = s*x1 + t*x2\n",
    "print('xn=')\n",
    "Matrix(xn)"
   ]
  },
  {
   "cell_type": "code",
   "execution_count": null,
   "metadata": {},
   "outputs": [],
   "source": [
    "print('xn + p:')\n",
    "Matrix(xn + p)"
   ]
  },
  {
   "cell_type": "code",
   "execution_count": null,
   "metadata": {},
   "outputs": [],
   "source": [
    "print('check A*p - b:')\n",
    "Matrix(A@p - b)"
   ]
  },
  {
   "cell_type": "code",
   "execution_count": null,
   "metadata": {},
   "outputs": [],
   "source": [
    "print('check A*(xn+p) - b:')\n",
    "Matrix(A@(xn+p) - b)"
   ]
  },
  {
   "cell_type": "code",
   "execution_count": null,
   "metadata": {},
   "outputs": [],
   "source": []
  }
 ],
 "metadata": {
  "interpreter": {
   "hash": "7f341b321178e62fbbfacfb91167ed733f9907f6f0692efdceb8394e8303ba73"
  },
  "kernelspec": {
   "display_name": "inverse [conda env:inverse]",
   "language": "python",
   "name": "conda-env-inverse-py"
  },
  "language_info": {
   "codemirror_mode": {
    "name": "ipython",
    "version": 3
   },
   "file_extension": ".py",
   "mimetype": "text/x-python",
   "name": "python",
   "nbconvert_exporter": "python",
   "pygments_lexer": "ipython3",
   "version": "3.10.6"
  }
 },
 "nbformat": 4,
 "nbformat_minor": 4
}
