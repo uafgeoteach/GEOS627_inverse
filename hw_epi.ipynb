{
 "cells": [
  {
   "cell_type": "markdown",
   "source": [
    "# Inverse Problems and Parameter Estimation, GEOS 627/427, University of Alaska Fairbanks\n",
    "\n",
    "- script hw_epi.ipynb"
   ],
   "metadata": {
    "collapsed": false
   }
  },
  {
   "cell_type": "code",
   "execution_count": null,
   "outputs": [],
   "source": [
    "%matplotlib inline"
   ],
   "metadata": {
    "collapsed": false
   }
  },
  {
   "cell_type": "code",
   "execution_count": null,
   "outputs": [],
   "source": [
    "import warnings\n",
    "\n",
    "import matplotlib.pyplot as plt\n",
    "import numpy as np\n",
    "import pandas as pd\n",
    "from matplotlib import cm\n",
    "from matplotlib.colors import LightSource\n",
    "from mpl_toolkits.mplot3d import Axes3D \n",
    "\n",
    "from lib_geos import plot_histo\n",
    "from lib_geos import randomvec"
   ],
   "metadata": {
    "collapsed": false
   }
  },
  {
   "cell_type": "code",
   "execution_count": null,
   "outputs": [],
   "source": [
    "# script settings\n",
    "\n",
    "warnings.filterwarnings('ignore')"
   ],
   "metadata": {
    "collapsed": false
   }
  },
  {
   "cell_type": "code",
   "execution_count": null,
   "metadata": {},
   "outputs": [],
   "source": [
    "# DEFINE MISFIT FUNCTION (VARIABLES NEED TO BE ADDED; NUMBERS NEED TO BE UPDATED)\n",
    "\n",
    "# grid spacing\n",
    "dx = 0.2\n",
    "\n",
    "# range of model space (Tarantola Figure 7.1)\n",
    "# note: length unit is km\n",
    "xmin = 0\n",
    "xmax = 22\n",
    "ymin = -2\n",
    "ymax = 30\n",
    "xvec = np.arange(xmin,xmax+dx,dx)\n",
    "yvec = np.arange(ymin,ymax+dx,dx)\n",
    "[X,Y] = np.meshgrid(xvec,yvec)\n",
    "x = X.flatten(order='F')\n",
    "y = Y.flatten(order='F')\n",
    "nx = len(xvec)\n",
    "ny = len(yvec)\n",
    "ng = len(x)\n",
    "dA = dx**2\n",
    "print('model space is %i x %i = %i' % (nx,ny,ng))\n",
    "print('model cell in %.2f km x %.2f km = %.4f km^2' % (dx,dx,dA))\n",
    "\n",
    "# data vector: traveltimes recorded at 6 receivers\n",
    "tobs = np.array([0,0,0,0,0,0]).T\n",
    "\n",
    "# receiver locations\n",
    "xr = [0,0,0,0,0,0]\n",
    "yr = [0,0,0,0,0,0]\n",
    "ndata = len(xr)\n",
    "\n",
    "# travel time computation (homogeneous velocity; straight ray paths)\n",
    "def t(x,y,xri,yri):\n",
    "    # YOUR FUNCTION HERE\n",
    "    pass\n",
    "    \n",
    "# traveltime predictions vector t(m)\n",
    "def tm(x,y):\n",
    "    tma = np.column_stack((t(x,y,xr[0],yr[0]),\n",
    "                     t(x,y,xr[1],yr[1]),\n",
    "                     t(x,y,xr[2],yr[2]),\n",
    "                     t(x,y,xr[3],yr[3]),\n",
    "                     t(x,y,xr[4],yr[4]),\n",
    "                     t(x,y,xr[5],yr[5])))\n",
    "    return tma\n",
    "\n",
    "# misfit function\n",
    "def F(x,y,tobs):\n",
    "    # YOUR FUNCTION HERE\n",
    "    pass"
   ]
  },
  {
   "cell_type": "code",
   "execution_count": null,
   "metadata": {},
   "outputs": [],
   "source": [
    "# evaluate the misfit function and find the index of the minimum (imin)\n"
   ]
  },
  {
   "cell_type": "code",
   "execution_count": null,
   "metadata": {},
   "outputs": [],
   "source": [
    "# helper function to display information\n",
    "def displayinfo(i):\n",
    "    print('\\ni: ',i)\n",
    "    print('(x[i],y[y]): (',x[i],y[i],')')\n",
    "    \n",
    "    # traveltime predictions vector t(m) and residual vector\n",
    "    t_m = tm(x[i],y[i])\n",
    "    res = tm(x[i],y[i])-tobs\n",
    "    \n",
    "    # reshape and put into Pandas DataFrame for nice printing\n",
    "    t_m = np.reshape(t_m,(t_m.size,1))\n",
    "    t_obs = np.reshape(tobs,(tobs.size,1))\n",
    "    res = np.reshape(res,(res.size,1))\n",
    "    data = np.append(np.append(t_m,t_obs,axis=1),res,axis=1)\n",
    "    \n",
    "    print(pd.DataFrame(data,columns=['tm(x[i],y[i])','tobs','tm(x[i],y[i])-tobs']))\n",
    "    print('F(x[i],y[i],tobs): ',F(x[i],y[i],tobs), '\\n')"
   ]
  },
  {
   "cell_type": "code",
   "execution_count": null,
   "metadata": {},
   "outputs": [],
   "source": [
    "# display misfit for first x-y cell and for the minimum\n",
    "#displayinfo(0) \n",
    "#displayinfo(imin) "
   ]
  },
  {
   "cell_type": "code",
   "execution_count": null,
   "metadata": {},
   "outputs": [],
   "source": [
    "# list active variables"
   ]
  },
  {
   "cell_type": "code",
   "execution_count": null,
   "metadata": {},
   "outputs": [],
   "source": [
    "whos float int ndarray list"
   ]
  },
  {
   "cell_type": "code",
   "execution_count": null,
   "metadata": {},
   "outputs": [],
   "source": [
    "# define an overarching function\n",
    "def epi_grid(inorm,iadderror):\n",
    "# PUT ALL YOUR CODING INSIDE HERE, INCLUDING ALL FIGURES,\n",
    "# SO THAT YOU CAN EXECUTE A FULL BATCH OF FIGURES WITH SIMPLE COMMAND BELOW\n",
    "    pass"
   ]
  },
  {
   "cell_type": "code",
   "execution_count": null,
   "metadata": {},
   "outputs": [],
   "source": [
    "inorm=2\n",
    "iadderror=0\n",
    "#epi_grid(inorm,iadderror)"
   ]
  }
 ],
 "metadata": {
  "interpreter": {
   "hash": "a4e78903152c5c8c0a1611fb4b22aa78baa308a7734308b75819bd49ff5f4ec4"
  },
  "kernelspec": {
   "name": "python3",
   "language": "python",
   "display_name": "Python 3 (ipykernel)"
  },
  "language_info": {
   "codemirror_mode": {
    "name": "ipython",
    "version": 3
   },
   "file_extension": ".py",
   "mimetype": "text/x-python",
   "name": "python",
   "nbconvert_exporter": "python",
   "pygments_lexer": "ipython3",
   "version": "3.8.12"
  }
 },
 "nbformat": 4,
 "nbformat_minor": 2
}
