{
 "cells": [
  {
   "cell_type": "markdown",
   "metadata": {
    "collapsed": false,
    "jupyter": {
     "outputs_hidden": false
    }
   },
   "source": [
    "# Inverse Problems and Parameter Estimation, GEOS 627/427, University of Alaska Fairbanks\n",
    "\n",
    "- script hw_epi.ipynb"
   ]
  },
  {
   "cell_type": "code",
   "execution_count": null,
   "metadata": {
    "collapsed": false,
    "jupyter": {
     "outputs_hidden": false
    }
   },
   "outputs": [],
   "source": [
    "%matplotlib inline\n",
    "#%matplotlib widget"
   ]
  },
  {
   "cell_type": "code",
   "execution_count": null,
   "metadata": {
    "collapsed": false,
    "jupyter": {
     "outputs_hidden": false
    }
   },
   "outputs": [],
   "source": [
    "import matplotlib.pyplot as plt\n",
    "import numpy as np\n",
    "#import pandas as pd\n",
    "# color plotting in 3D\n",
    "from matplotlib import cm\n",
    "from matplotlib.colors import LightSource\n",
    "from mpl_toolkits.mplot3d import Axes3D \n",
    "\n",
    "from lib_geos import plot_histo\n",
    "from lib_inverse import randomvec\n",
    "\n",
    "import warnings\n",
    "warnings.filterwarnings('ignore')"
   ]
  },
  {
   "cell_type": "code",
   "execution_count": null,
   "metadata": {},
   "outputs": [],
   "source": [
    "# DEFINE MISFIT FUNCTION (VARIABLES NEED TO BE ADDED; NUMBERS NEED TO BE UPDATED)\n",
    "\n",
    "# grid spacing\n",
    "dx = 0.2\n",
    "\n",
    "# range of model space (Tarantola Figure 7.1)\n",
    "# note: length unit is km\n",
    "xmin = 0\n",
    "xmax = 22\n",
    "ymin = -2\n",
    "ymax = 30\n",
    "xvec = np.arange(xmin,xmax+dx,dx)\n",
    "yvec = np.arange(ymin,ymax+dx,dx)\n",
    "[X,Y] = np.meshgrid(xvec,yvec)\n",
    "x = X.flatten(order='F')\n",
    "y = Y.flatten(order='F')\n",
    "nx = len(xvec)\n",
    "ny = len(yvec)\n",
    "ng = len(x)\n",
    "dA = dx**2\n",
    "print('model space is %i x %i = %i' % (nx,ny,ng))\n",
    "print('model cell in %.2f km x %.2f km = %.4f km^2' % (dx,dx,dA))\n",
    "\n",
    "# data vector: traveltimes recorded at 6 receivers\n",
    "tobs = np.array([0,0,0,0,0,0]).T\n",
    "\n",
    "# receiver locations\n",
    "xr = [0,0,0,0,0,0]\n",
    "yr = [0,0,0,0,0,0]\n",
    "ndata = len(xr)\n",
    "\n",
    "# travel time computation (homogeneous velocity; straight ray paths)\n",
    "def t(x,y,xri,yri):\n",
    "    # YOUR FUNCTION HERE\n",
    "    pass\n",
    "    \n",
    "# traveltime predictions vector t(m)\n",
    "def tm(x,y):\n",
    "    tma = np.column_stack((t(x,y,xr[0],yr[0]),\n",
    "                     t(x,y,xr[1],yr[1]),\n",
    "                     t(x,y,xr[2],yr[2]),\n",
    "                     t(x,y,xr[3],yr[3]),\n",
    "                     t(x,y,xr[4],yr[4]),\n",
    "                     t(x,y,xr[5],yr[5])))\n",
    "    return tma\n",
    "\n",
    "# misfit function\n",
    "def F(x,y,tobs):\n",
    "    # YOUR FUNCTION HERE\n",
    "    pass"
   ]
  },
  {
   "cell_type": "code",
   "execution_count": null,
   "metadata": {},
   "outputs": [],
   "source": [
    "# helper function: input index j, output traveltime predictions, residuals, and F(m)\n",
    "def displayinfo(j):\n",
    "    print('j: ',j)\n",
    "    print('(x[j], y[j]): (%.2f km, %.2f km)' % (x[j],y[j]))\n",
    "    \n",
    "    # traveltime predictions vector t(m) and residual vector\n",
    "    t_m = tm(x[j],y[j])\n",
    "    res = tm(x[j],y[j])-tobs\n",
    "    \n",
    "    # flatten\n",
    "    xx = t_m.flatten()\n",
    "    yy = tobs.flatten()\n",
    "    zz = res.flatten()\n",
    "    \n",
    "    print(f'{\"i\":>5} {\"tm(x[j],y[j])\":>16} {\"tobs\":>10} {\"tm(x[j],y[j])-tobs\":>20}')\n",
    "    for i in range(len(xx)):\n",
    "        print(f'{i+1:>5} {xx[i]:>16.4f} {yy[i]:>10.2f} {zz[i]:>20.4f}')\n",
    "    print(f'F(x[j],y[j],tobs): {F(x[j],y[j],tobs)[0]:.4f} \\n')"
   ]
  },
  {
   "cell_type": "code",
   "execution_count": null,
   "metadata": {},
   "outputs": [],
   "source": [
    "# display misfit for first x-y cell\n",
    "#displayinfo(0) "
   ]
  },
  {
   "cell_type": "code",
   "execution_count": null,
   "metadata": {},
   "outputs": [],
   "source": [
    "# evaluate the misfit function and find the index of the minimum (jmin)\n"
   ]
  },
  {
   "cell_type": "code",
   "execution_count": null,
   "metadata": {},
   "outputs": [],
   "source": [
    "# display misfit for the minimum\n",
    "#displayinfo(jmin) "
   ]
  },
  {
   "cell_type": "code",
   "execution_count": null,
   "metadata": {},
   "outputs": [],
   "source": [
    "# list active variables"
   ]
  },
  {
   "cell_type": "code",
   "execution_count": null,
   "metadata": {},
   "outputs": [],
   "source": [
    "whos float int ndarray list"
   ]
  },
  {
   "cell_type": "code",
   "execution_count": null,
   "metadata": {},
   "outputs": [],
   "source": [
    "# define an overarching function [this is optional and should be considered starting at Problem 4]\n",
    "def epi_grid(inorm,iadderror):\n",
    "# PUT ALL YOUR CODING INSIDE HERE, INCLUDING ALL FIGURES,\n",
    "# SO THAT YOU CAN EXECUTE A FULL BATCH OF FIGURES WITH SIMPLE COMMAND BELOW\n",
    "    pass"
   ]
  },
  {
   "cell_type": "code",
   "execution_count": null,
   "metadata": {},
   "outputs": [],
   "source": [
    "inorm=2\n",
    "iadderror=0\n",
    "#epi_grid(inorm,iadderror)"
   ]
  }
 ],
 "metadata": {
  "interpreter": {
   "hash": "a4e78903152c5c8c0a1611fb4b22aa78baa308a7734308b75819bd49ff5f4ec4"
  },
  "kernelspec": {
   "display_name": "inverse [conda env:inverse]",
   "language": "python",
   "name": "conda-env-inverse-py"
  },
  "language_info": {
   "codemirror_mode": {
    "name": "ipython",
    "version": 3
   },
   "file_extension": ".py",
   "mimetype": "text/x-python",
   "name": "python",
   "nbconvert_exporter": "python",
   "pygments_lexer": "ipython3",
   "version": "3.10.6"
  }
 },
 "nbformat": 4,
 "nbformat_minor": 4
}
